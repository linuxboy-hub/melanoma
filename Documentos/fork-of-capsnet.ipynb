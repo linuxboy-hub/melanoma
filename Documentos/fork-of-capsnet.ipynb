{
 "cells": [
  {
   "cell_type": "code",
   "execution_count": 1,
   "id": "attended-canal",
   "metadata": {
    "_cell_guid": "0b159037-9c70-40fa-b1db-8a0fc59e1440",
    "_uuid": "df2f4004-a1eb-4b8f-962a-e76bbf65e550",
    "collapsed": false,
    "execution": {
     "iopub.execute_input": "2021-05-05T09:04:58.682884Z",
     "iopub.status.busy": "2021-05-05T09:04:58.680949Z",
     "iopub.status.idle": "2021-05-05T09:04:58.684144Z",
     "shell.execute_reply": "2021-05-05T09:04:58.684684Z"
    },
    "jupyter": {
     "outputs_hidden": false
    },
    "papermill": {
     "duration": 0.043145,
     "end_time": "2021-05-05T09:04:58.684982",
     "exception": false,
     "start_time": "2021-05-05T09:04:58.641837",
     "status": "completed"
    },
    "tags": []
   },
   "outputs": [],
   "source": [
    "# !pip install tensorflow==2.2.0\n",
    "# !pip install numpy --upgrade\n",
    "# !pip install sklearn --upgrade"
   ]
  },
  {
   "cell_type": "code",
   "execution_count": 2,
   "id": "adjusted-denial",
   "metadata": {
    "_cell_guid": "0a81e974-7f65-418a-9e42-6292aef6cc1c",
    "_uuid": "72100a3a-07b6-42be-830c-5e8516c7a116",
    "collapsed": false,
    "execution": {
     "iopub.execute_input": "2021-05-05T09:04:58.770023Z",
     "iopub.status.busy": "2021-05-05T09:04:58.757099Z",
     "iopub.status.idle": "2021-05-05T09:05:05.948822Z",
     "shell.execute_reply": "2021-05-05T09:05:05.948131Z"
    },
    "jupyter": {
     "outputs_hidden": false
    },
    "papermill": {
     "duration": 7.232596,
     "end_time": "2021-05-05T09:05:05.948961",
     "exception": false,
     "start_time": "2021-05-05T09:04:58.716365",
     "status": "completed"
    },
    "tags": []
   },
   "outputs": [
    {
     "name": "stdout",
     "output_type": "stream",
     "text": [
      "Name: tensorflow\r\n",
      "Version: 2.4.1\r\n",
      "Summary: TensorFlow is an open source machine learning framework for everyone.\r\n",
      "Home-page: https://www.tensorflow.org/\r\n",
      "Author: Google Inc.\r\n",
      "Author-email: packages@tensorflow.org\r\n",
      "License: Apache 2.0\r\n",
      "Location: /opt/conda/lib/python3.7/site-packages\r\n",
      "Requires: opt-einsum, google-pasta, flatbuffers, numpy, grpcio, absl-py, astunparse, wrapt, h5py, six, tensorflow-estimator, gast, protobuf, keras-preprocessing, termcolor, typing-extensions, tensorboard, wheel\r\n",
      "Required-by: tensorflow-cloud, fancyimpute\r\n"
     ]
    }
   ],
   "source": [
    "# import numpy\n",
    "!pip show tensorflow\n",
    "# print (numpy.__version__)"
   ]
  },
  {
   "cell_type": "code",
   "execution_count": 3,
   "id": "metallic-rescue",
   "metadata": {
    "_cell_guid": "f7cfe146-3726-4c42-81a9-437a0e2ed41c",
    "_uuid": "e77a9b04-9ce8-4b10-9be9-0fa025feeaad",
    "collapsed": false,
    "execution": {
     "iopub.execute_input": "2021-05-05T09:05:06.021435Z",
     "iopub.status.busy": "2021-05-05T09:05:06.020641Z",
     "iopub.status.idle": "2021-05-05T09:05:13.051734Z",
     "shell.execute_reply": "2021-05-05T09:05:13.052352Z"
    },
    "jupyter": {
     "outputs_hidden": false
    },
    "papermill": {
     "duration": 7.071769,
     "end_time": "2021-05-05T09:05:13.052569",
     "exception": false,
     "start_time": "2021-05-05T09:05:05.980800",
     "status": "completed"
    },
    "tags": []
   },
   "outputs": [
    {
     "name": "stdout",
     "output_type": "stream",
     "text": [
      "start\n"
     ]
    }
   ],
   "source": [
    "import re\n",
    "import cv2\n",
    "import math\n",
    "import time\n",
    "import numpy as np\n",
    "import pandas as pd\n",
    "import matplotlib.pyplot as plt\n",
    "from tqdm import tqdm_notebook as tqdm\n",
    "from sklearn.model_selection import train_test_split\n",
    "from kaggle_datasets import KaggleDatasets\n",
    "import tensorflow as tf\n",
    "import tensorflow.keras.backend as K\n",
    "from tensorflow.keras.layers import Dense\n",
    "from tensorflow.keras.models import Model,Sequential\n",
    "from tensorflow.keras import optimizers\n",
    "from tensorflow.keras import initializers, layers\n",
    "from tensorflow import keras\n",
    "\n",
    "import pickle\n",
    "import os\n",
    "import glob\n",
    "import matplotlib.pyplot as plt\n",
    "import time;\n",
    "print(\"start\")"
   ]
  },
  {
   "cell_type": "markdown",
   "id": "earned-positive",
   "metadata": {
    "_cell_guid": "8c67fc62-361c-409a-bcf6-fe964400e24e",
    "_uuid": "d06ec1b9-d403-497a-8f8a-d53186825d31",
    "papermill": {
     "duration": 0.032644,
     "end_time": "2021-05-05T09:05:13.117635",
     "exception": false,
     "start_time": "2021-05-05T09:05:13.084991",
     "status": "completed"
    },
    "tags": []
   },
   "source": [
    "#  TPU configuration"
   ]
  },
  {
   "cell_type": "code",
   "execution_count": 4,
   "id": "rolled-accreditation",
   "metadata": {
    "_cell_guid": "6aff7142-17fb-4490-a50d-d88357dcbded",
    "_kg_hide-input": true,
    "_uuid": "fbd1d1d4-9dc4-42cf-9900-90addc721439",
    "collapsed": false,
    "execution": {
     "iopub.execute_input": "2021-05-05T09:05:13.202333Z",
     "iopub.status.busy": "2021-05-05T09:05:13.194005Z",
     "iopub.status.idle": "2021-05-05T09:05:19.072725Z",
     "shell.execute_reply": "2021-05-05T09:05:19.073242Z"
    },
    "jupyter": {
     "outputs_hidden": false
    },
    "papermill": {
     "duration": 5.923868,
     "end_time": "2021-05-05T09:05:19.073432",
     "exception": false,
     "start_time": "2021-05-05T09:05:13.149564",
     "status": "completed"
    },
    "tags": []
   },
   "outputs": [
    {
     "name": "stdout",
     "output_type": "stream",
     "text": [
      "Running on TPU  grpc://10.0.0.2:8470\n",
      "REPLICAS:  8\n"
     ]
    }
   ],
   "source": [
    "AUTO = tf.data.experimental.AUTOTUNE\n",
    "try:\n",
    "    tpu = tf.distribute.cluster_resolver.TPUClusterResolver()\n",
    "    print('Running on TPU ', tpu.master())\n",
    "except ValueError:\n",
    "    tpu = None\n",
    "\n",
    "if tpu:\n",
    "    tf.config.experimental_connect_to_cluster(tpu)\n",
    "    tf.tpu.experimental.initialize_tpu_system(tpu)\n",
    "    strategy = tf.distribute.experimental.TPUStrategy(tpu)\n",
    "else:\n",
    "    strategy = tf.distribute.get_strategy()\n",
    "    \n",
    "print(\"REPLICAS: \", strategy.num_replicas_in_sync)\n",
    "\n",
    "\n",
    "DATASET = 'melanomasegmented'\n",
    "# DATASET = 'unet-segmentedisic-20192020'\n",
    "GCS_PATH = KaggleDatasets().get_gcs_path(DATASET)"
   ]
  },
  {
   "cell_type": "markdown",
   "id": "cellular-constant",
   "metadata": {
    "_cell_guid": "6dc721f5-7588-4820-bd45-3733815c5c0c",
    "_uuid": "34109f20-93dd-448f-ae23-1bbb5070c7c5",
    "papermill": {
     "duration": 0.032823,
     "end_time": "2021-05-05T09:05:19.139638",
     "exception": false,
     "start_time": "2021-05-05T09:05:19.106815",
     "status": "completed"
    },
    "tags": []
   },
   "source": [
    "> # Hyperparameter tuning"
   ]
  },
  {
   "cell_type": "code",
   "execution_count": 5,
   "id": "cooked-circular",
   "metadata": {
    "_cell_guid": "fa4e2e2f-2118-4310-80f7-35eacc8abfa2",
    "_uuid": "512ff71a-0980-4c43-b688-f3ed9befdfc2",
    "collapsed": false,
    "execution": {
     "iopub.execute_input": "2021-05-05T09:05:19.208227Z",
     "iopub.status.busy": "2021-05-05T09:05:19.207518Z",
     "iopub.status.idle": "2021-05-05T09:05:19.214586Z",
     "shell.execute_reply": "2021-05-05T09:05:19.215135Z"
    },
    "jupyter": {
     "outputs_hidden": false
    },
    "papermill": {
     "duration": 0.043131,
     "end_time": "2021-05-05T09:05:19.215333",
     "exception": false,
     "start_time": "2021-05-05T09:05:19.172202",
     "status": "completed"
    },
    "tags": []
   },
   "outputs": [],
   "source": [
    "SEED = 42\n",
    "BATCH_SIZE = 16 * strategy.num_replicas_in_sync\n",
    "SIZE = [128,128]\n",
    "LR = 0.00004\n",
    "EPOCHS =50\n",
    "WARMUP = 5\n",
    "WEIGHT_DECAY = 0\n",
    "LABEL_SMOOTHING = 0.05\n",
    "TTA = 4\n",
    "# \n",
    "INPUT_SHAPE = (128, 128, 3)\n",
    "NUM_CLASS =2\n",
    "ROUTING = 3\n",
    "spread_loss_value=K.variable(0.2)"
   ]
  },
  {
   "cell_type": "code",
   "execution_count": 6,
   "id": "entitled-rubber",
   "metadata": {
    "_cell_guid": "5afc25dc-e553-45dc-aa84-3da2318105da",
    "_uuid": "d85eed6a-c876-4d22-869c-2d000de59a95",
    "collapsed": false,
    "execution": {
     "iopub.execute_input": "2021-05-05T09:05:19.283689Z",
     "iopub.status.busy": "2021-05-05T09:05:19.283065Z",
     "iopub.status.idle": "2021-05-05T09:05:19.461290Z",
     "shell.execute_reply": "2021-05-05T09:05:19.460607Z"
    },
    "jupyter": {
     "outputs_hidden": false
    },
    "papermill": {
     "duration": 0.213347,
     "end_time": "2021-05-05T09:05:19.461466",
     "exception": false,
     "start_time": "2021-05-05T09:05:19.248119",
     "status": "completed"
    },
    "tags": []
   },
   "outputs": [],
   "source": [
    "def seed_everything(SEED):\n",
    "    np.random.seed(SEED)\n",
    "    tf.random.set_seed(SEED)\n",
    "\n",
    "seed_everything(SEED)\n",
    "train_filenames = tf.io.gfile.glob(GCS_PATH + '/train*.tfrec')\n",
    "test_filenames = tf.io.gfile.glob(GCS_PATH + '/test*.tfrec')"
   ]
  },
  {
   "cell_type": "code",
   "execution_count": 7,
   "id": "likely-discussion",
   "metadata": {
    "_cell_guid": "eec4a5b4-9a87-49f5-bc38-decca41fcfd4",
    "_uuid": "2af41ae2-3cf4-4ee5-9293-3824aa3ed25f",
    "collapsed": false,
    "execution": {
     "iopub.execute_input": "2021-05-05T09:05:19.532945Z",
     "iopub.status.busy": "2021-05-05T09:05:19.532316Z",
     "iopub.status.idle": "2021-05-05T09:05:19.664512Z",
     "shell.execute_reply": "2021-05-05T09:05:19.663059Z"
    },
    "jupyter": {
     "outputs_hidden": false
    },
    "papermill": {
     "duration": 0.170181,
     "end_time": "2021-05-05T09:05:19.664669",
     "exception": false,
     "start_time": "2021-05-05T09:05:19.494488",
     "status": "completed"
    },
    "tags": []
   },
   "outputs": [],
   "source": [
    "df_1 = pd.read_csv('/kaggle/input/model-melanoma-2020/submission.csv')\n",
    "df_3b = pd.read_csv('/kaggle/input/melanoma-effnet-metdata/ensembled.csv')\n",
    "df_4 = pd.read_csv('/kaggle/input/minmax-melanoma-9619/submission.csv')\n",
    "df_5 = pd.read_csv('/kaggle/input/melanoma-2020-9648/submission_9648.csv')"
   ]
  },
  {
   "cell_type": "code",
   "execution_count": 8,
   "id": "final-delaware",
   "metadata": {
    "_cell_guid": "c3422956-5ea9-4d65-896d-5e11bc26cac5",
    "_uuid": "3cc87949-8253-480b-9c6b-c847f7c377ac",
    "collapsed": false,
    "execution": {
     "iopub.execute_input": "2021-05-05T09:05:19.738313Z",
     "iopub.status.busy": "2021-05-05T09:05:19.737343Z",
     "iopub.status.idle": "2021-05-05T09:05:19.740776Z",
     "shell.execute_reply": "2021-05-05T09:05:19.740248Z"
    },
    "jupyter": {
     "outputs_hidden": false
    },
    "papermill": {
     "duration": 0.04345,
     "end_time": "2021-05-05T09:05:19.740925",
     "exception": false,
     "start_time": "2021-05-05T09:05:19.697475",
     "status": "completed"
    },
    "tags": []
   },
   "outputs": [],
   "source": [
    "def plot_images(np_images, titles = [], columns =3, figure_size = (24, 15)):\n",
    "    count = len(np_images)\n",
    "    rows = math.ceil(count / columns)\n",
    "   \n",
    "\n",
    "    fig = plt.figure(figsize=figure_size)\n",
    "    subplots = []\n",
    "    for index in range(count):\n",
    "        subplots.append(fig.add_subplot(rows, columns, index + 1))\n",
    "        if len(titles):\n",
    "            subplots[-1].set_title(str(titles[index]))\n",
    "        plt.imshow(np_images[index])\n",
    "\n",
    "    plt.show()"
   ]
  },
  {
   "cell_type": "code",
   "execution_count": 9,
   "id": "associate-flash",
   "metadata": {
    "_cell_guid": "0fca9c14-cda3-4214-b4ed-f1af8670cda8",
    "_uuid": "e76694ed-af02-4b44-b9e6-3e3d5d2c6777",
    "collapsed": false,
    "execution": {
     "iopub.execute_input": "2021-05-05T09:05:19.814538Z",
     "iopub.status.busy": "2021-05-05T09:05:19.813854Z",
     "iopub.status.idle": "2021-05-05T09:05:19.816594Z",
     "shell.execute_reply": "2021-05-05T09:05:19.817048Z"
    },
    "jupyter": {
     "outputs_hidden": false
    },
    "papermill": {
     "duration": 0.043381,
     "end_time": "2021-05-05T09:05:19.817251",
     "exception": false,
     "start_time": "2021-05-05T09:05:19.773870",
     "status": "completed"
    },
    "tags": []
   },
   "outputs": [],
   "source": [
    "train_filenames,valid_filenames = train_test_split(train_filenames,test_size = 0.05,random_state = SEED)"
   ]
  },
  {
   "cell_type": "code",
   "execution_count": 10,
   "id": "decimal-festival",
   "metadata": {
    "_cell_guid": "d0f006a8-6713-473e-a869-ae431bd08eaf",
    "_uuid": "b01dbc7f-4b13-4a67-96ed-2901c640582a",
    "collapsed": false,
    "execution": {
     "iopub.execute_input": "2021-05-05T09:05:19.905801Z",
     "iopub.status.busy": "2021-05-05T09:05:19.905080Z",
     "iopub.status.idle": "2021-05-05T09:05:19.908174Z",
     "shell.execute_reply": "2021-05-05T09:05:19.907678Z"
    },
    "jupyter": {
     "outputs_hidden": false
    },
    "papermill": {
     "duration": 0.057462,
     "end_time": "2021-05-05T09:05:19.908349",
     "exception": false,
     "start_time": "2021-05-05T09:05:19.850887",
     "status": "completed"
    },
    "tags": []
   },
   "outputs": [],
   "source": [
    "def decode_image(image):\n",
    "    image = tf.image.decode_jpeg(image, channels=3) \n",
    "    image = tf.cast(image, tf.float32)/255.0\n",
    "    image = tf.reshape(image, [*SIZE, 3])\n",
    "#     image = tf.image.resize(image, [28,28])\n",
    "    return image\n",
    "\n",
    "np.set_printoptions(threshold=np.inf)\n",
    "\n",
    "def decode_image_png(image):\n",
    "    image = tf.image.decode_png(image, channels=3)\n",
    "    image = tf.cast(image, tf.float32)/255.0\n",
    "    image = tf.reshape(image, [*SIZE, 3])\n",
    "#     image = tf.image.resize(image,[28,28])\n",
    "    return image\n",
    "\n",
    "def parseImageFromRawData(image_raw, shape=INPUT_SHAPE, type=tf.float32):\n",
    "    image = tf.io.decode_raw(image_raw, type)\n",
    "    image = tf.reshape(image, shape=shape)\n",
    "    return image\n",
    "\n",
    "def parse_example_unlabeled(example):  \n",
    "    features = {'image': tf.io.FixedLenFeature([], tf.string),\"image_name\": tf.io.FixedLenFeature([], tf.string)}\n",
    "    parsed_example = tf.io.parse_single_example(example, features=features)\n",
    "    image = decode_image_png(parsed_example['image'])\n",
    "    image_name = parsed_example['image_name']\n",
    "    return (image, image_name)\n",
    "\n",
    "def parse_example_labeled(example):  \n",
    "    LABELED_TFREC_FORMAT ={\n",
    "        \"image\": tf.io.FixedLenFeature([], tf.string),\n",
    "        \"target\": tf.io.FixedLenFeature([], tf.int64),  }\n",
    "    parsed_example = tf.io.parse_single_example(example,LABELED_TFREC_FORMAT)\n",
    "    label = tf.cast(parsed_example['target'], tf.int32)\n",
    "    image = decode_image_png(parsed_example['image'])\n",
    "    return (image, label), (label, image)\n",
    "\n",
    "def data_augment_unlabled(image,image_name, seed=SEED):\n",
    "    image = tf.image.rot90(image,k=np.random.randint(4))\n",
    "    image = tf.image.random_flip_left_right(image, seed=seed)\n",
    "    image = tf.image.random_flip_up_down(image, seed=seed)\n",
    "    return (image,image_name)\n",
    "\n",
    "def data_augment_labeled(image_label,label_image=None, seed=SEED):\n",
    "    (image,label)=image_label\n",
    "    image = tf.image.rot90(image,k=np.random.randint(4))\n",
    "    image = tf.image.random_flip_left_right(image, seed=seed)\n",
    "    image = tf.image.random_flip_up_down(image, seed=seed)\n",
    "    return (image, label),(label,image)\n",
    "\n",
    "def load_dataset(filenames, labeled=True, ordered=False):\n",
    "    ignore_order = tf.data.Options()\n",
    "    if not ordered:\n",
    "        ignore_order.experimental_deterministic = False\n",
    "\n",
    "    return (tf.data.TFRecordDataset(filenames,num_parallel_reads=AUTO) \n",
    "              .with_options(ignore_order)\n",
    "               .map(parse_example_labeled if labeled\n",
    "                    else parse_example_unlabeled, num_parallel_calls=AUTO))\n",
    "\n",
    "                   \n",
    "def count_data_items(filenames):\n",
    "    n = [int(re.compile(r\"-([0-9]*)\\.\").search(filename).group(1)) for filename in filenames]\n",
    "    return np.sum(n)\n",
    "\n",
    "\n",
    "def plot_transform():\n",
    "    plt.figure(figsize=(30,10))\n",
    "    x = load_dataset(train_filenames, labeled=True).batch(BATCH_SIZE)\n",
    "    for (image_label,label_image) in x:\n",
    "        (images,labels)= image_label\n",
    "        plot_images(images)\n",
    "#        print(labels.numpy(),labels)\n",
    "#        print(\"images.shape: \",images.shape)\n",
    "        break\n",
    "    \n",
    "#     plt.imshow(images[40])"
   ]
  },
  {
   "cell_type": "markdown",
   "id": "distributed-participation",
   "metadata": {
    "_cell_guid": "c1007161-6a8a-434c-b614-9cf9152c9480",
    "_uuid": "ee150b13-b0cc-42c4-9a20-5e102b3be921",
    "papermill": {
     "duration": 0.034186,
     "end_time": "2021-05-05T09:05:19.975942",
     "exception": false,
     "start_time": "2021-05-05T09:05:19.941756",
     "status": "completed"
    },
    "tags": []
   },
   "source": [
    "> # Visualizing Augmentation"
   ]
  },
  {
   "cell_type": "code",
   "execution_count": 11,
   "id": "suburban-enterprise",
   "metadata": {
    "_cell_guid": "0ee4ce9b-664a-49f3-a351-acd21bb1d884",
    "_uuid": "70ec8774-aa8d-4279-a979-e2a0fbc3b5fc",
    "collapsed": false,
    "execution": {
     "iopub.execute_input": "2021-05-05T09:05:20.051842Z",
     "iopub.status.busy": "2021-05-05T09:05:20.050530Z",
     "iopub.status.idle": "2021-05-05T09:05:32.568963Z",
     "shell.execute_reply": "2021-05-05T09:05:32.569497Z"
    },
    "jupyter": {
     "outputs_hidden": false
    },
    "papermill": {
     "duration": 12.560534,
     "end_time": "2021-05-05T09:05:32.569695",
     "exception": false,
     "start_time": "2021-05-05T09:05:20.009161",
     "status": "completed"
    },
    "tags": []
   },
   "outputs": [
    {
     "data": {
      "text/plain": [
       "<Figure size 2160x720 with 0 Axes>"
      ]
     },
     "metadata": {},
     "output_type": "display_data"
    },
    {
     "data": {
      "image/png": "[encoded data removed]",
      "text/plain": [
       "<Figure size 1728x1080 with 128 Axes>"
      ]
     },
     "metadata": {
      "needs_background": "light"
     },
     "output_type": "display_data"
    }
   ],
   "source": [
    "plot_transform()"
   ]
  },
  {
   "cell_type": "markdown",
   "id": "adult-assembly",
   "metadata": {
    "_cell_guid": "c379ee57-8f4a-452d-8339-a35257cd6000",
    "_uuid": "45e4eb8d-4347-475f-9063-ff36c19dd1e2",
    "papermill": {
     "duration": 0.038687,
     "end_time": "2021-05-05T09:05:32.646803",
     "exception": false,
     "start_time": "2021-05-05T09:05:32.608116",
     "status": "completed"
    },
    "tags": []
   },
   "source": [
    "# Segment all image"
   ]
  },
  {
   "cell_type": "code",
   "execution_count": 12,
   "id": "permanent-article",
   "metadata": {
    "_cell_guid": "6fcce979-70c3-4b14-a178-6bb7eb956892",
    "_uuid": "9fa3bcdf-e409-462b-98da-4ed4d3f65547",
    "collapsed": false,
    "execution": {
     "iopub.execute_input": "2021-05-05T09:05:32.729945Z",
     "iopub.status.busy": "2021-05-05T09:05:32.729231Z",
     "iopub.status.idle": "2021-05-05T09:05:32.944012Z",
     "shell.execute_reply": "2021-05-05T09:05:32.942428Z"
    },
    "jupyter": {
     "outputs_hidden": false
    },
    "papermill": {
     "duration": 0.259492,
     "end_time": "2021-05-05T09:05:32.944176",
     "exception": false,
     "start_time": "2021-05-05T09:05:32.684684",
     "status": "completed"
    },
    "tags": []
   },
   "outputs": [],
   "source": [
    "\n",
    "train_dataset = (load_dataset(train_filenames, labeled=True)\n",
    "    .map(data_augment_labeled, num_parallel_calls=AUTO)\n",
    "    .shuffle(SEED)\n",
    "    .batch(BATCH_SIZE,drop_remainder=True)\n",
    "    .repeat()\n",
    "    .prefetch(AUTO))\n",
    "\n",
    "valid_dataset = (load_dataset(valid_filenames, labeled=True)\n",
    "    .batch(BATCH_SIZE,drop_remainder=True)\n",
    "    .cache()            \n",
    "    .prefetch(AUTO))"
   ]
  },
  {
   "cell_type": "markdown",
   "id": "opposed-apparel",
   "metadata": {
    "_cell_guid": "b4cbacd7-9cb3-40ad-9169-6920b7c214e2",
    "_uuid": "9c91db9c-85ed-49b2-90ea-ee4db818d42f",
    "papermill": {
     "duration": 0.038571,
     "end_time": "2021-05-05T09:05:33.021218",
     "exception": false,
     "start_time": "2021-05-05T09:05:32.982647",
     "status": "completed"
    },
    "tags": []
   },
   "source": [
    "> # Model,loss function"
   ]
  },
  {
   "cell_type": "code",
   "execution_count": 13,
   "id": "pharmaceutical-speaking",
   "metadata": {
    "_cell_guid": "ff57eeb5-fbb5-4a2e-8c4b-321c332d11e5",
    "_uuid": "a29a74be-b5a9-4aa1-9c00-89834882189b",
    "collapsed": false,
    "execution": {
     "iopub.execute_input": "2021-05-05T09:05:33.107630Z",
     "iopub.status.busy": "2021-05-05T09:05:33.106911Z",
     "iopub.status.idle": "2021-05-05T09:05:33.110231Z",
     "shell.execute_reply": "2021-05-05T09:05:33.109701Z"
    },
    "jupyter": {
     "outputs_hidden": false
    },
    "papermill": {
     "duration": 0.050809,
     "end_time": "2021-05-05T09:05:33.110367",
     "exception": false,
     "start_time": "2021-05-05T09:05:33.059558",
     "status": "completed"
    },
    "tags": []
   },
   "outputs": [],
   "source": [
    "def focal_loss(alpha=0.25,gamma=2.0):\n",
    "    def focal_crossentropy(y_true, y_pred):\n",
    "        y_true =tf.bitcast(tf.cast(y_true, dtype=tf.float32), tf.float32)\n",
    "        y_pred = tf.slice(y_pred, [0, 1], [y_pred.shape[0], 1]) #Only keep weights for melanoma\n",
    "        bce = K.binary_crossentropy(y_true, y_pred)\n",
    "        \n",
    "        y_pred = K.clip(y_pred, K.epsilon(), 1.- K.epsilon())\n",
    "        p_t = (y_true*y_pred) + ((1-y_true)*(1-y_pred))\n",
    "        \n",
    "        alpha_factor = 1\n",
    "        modulating_factor = 1\n",
    "\n",
    "        alpha_factor = y_true*alpha + ((1-alpha)*(1-y_true))\n",
    "        modulating_factor = K.pow((1-p_t), gamma)\n",
    "\n",
    "        # compute the final loss and return\n",
    "        return K.mean(alpha_factor*modulating_factor*bce, axis=-1)\n",
    "    return focal_crossentropy"
   ]
  },
  {
   "cell_type": "code",
   "execution_count": 14,
   "id": "excessive-modification",
   "metadata": {
    "_cell_guid": "0ab27a01-8e02-42bf-90f9-71838aa902c7",
    "_uuid": "54a7b773-48d6-4f07-a263-9c342aed5395",
    "collapsed": false,
    "execution": {
     "iopub.execute_input": "2021-05-05T09:05:33.191342Z",
     "iopub.status.busy": "2021-05-05T09:05:33.190369Z",
     "iopub.status.idle": "2021-05-05T09:05:33.197346Z",
     "shell.execute_reply": "2021-05-05T09:05:33.197808Z"
    },
    "jupyter": {
     "outputs_hidden": false
    },
    "papermill": {
     "duration": 0.049051,
     "end_time": "2021-05-05T09:05:33.197987",
     "exception": false,
     "start_time": "2021-05-05T09:05:33.148936",
     "status": "completed"
    },
    "tags": []
   },
   "outputs": [],
   "source": [
    "def margin_loss(y_true, y_pred):\n",
    "    y_tobe =tf.bitcast(tf.cast(y_true, dtype=tf.int64), tf.int64)\n",
    "    y_tobe = tf.one_hot(y_tobe, NUM_CLASS)\n",
    "    y_tobe_correct = y_tobe\n",
    "    y_tobe_wrong = 1 - y_tobe\n",
    "    L = tf.math.multiply(y_tobe_correct, K.square(K.maximum(0., tf.math.subtract(0.9, y_pred)))) + \\\n",
    "        tf.math.multiply( y_tobe_wrong, K.square(K.maximum(0., tf.math.subtract(y_pred, 0.1))))\n",
    "    return  K.mean(K.sum(L, 1))"
   ]
  },
  {
   "cell_type": "code",
   "execution_count": 15,
   "id": "mounted-advertiser",
   "metadata": {
    "_cell_guid": "d7214753-5674-44b6-8e44-47d2a1cac644",
    "_uuid": "dd07feca-25e2-48de-80ca-7170dfcb72ad",
    "collapsed": false,
    "execution": {
     "iopub.execute_input": "2021-05-05T09:05:33.278142Z",
     "iopub.status.busy": "2021-05-05T09:05:33.277166Z",
     "iopub.status.idle": "2021-05-05T09:05:33.281911Z",
     "shell.execute_reply": "2021-05-05T09:05:33.282412Z"
    },
    "jupyter": {
     "outputs_hidden": false
    },
    "papermill": {
     "duration": 0.046505,
     "end_time": "2021-05-05T09:05:33.282600",
     "exception": false,
     "start_time": "2021-05-05T09:05:33.236095",
     "status": "completed"
    },
    "tags": []
   },
   "outputs": [],
   "source": [
    "def ssim_loss(image_true, image_rec):\n",
    "    return  K.mean(tf.math.abs(tf.image.ssim(image_true, image_rec, max_val=1.0)))"
   ]
  },
  {
   "cell_type": "code",
   "execution_count": 16,
   "id": "coordinated-badge",
   "metadata": {
    "_cell_guid": "22341972-4de0-46f0-adad-42c6b9f6f122",
    "_uuid": "00b8c3f7-9508-4ae2-bf38-ea096928c79b",
    "collapsed": false,
    "execution": {
     "iopub.execute_input": "2021-05-05T09:05:33.363111Z",
     "iopub.status.busy": "2021-05-05T09:05:33.362115Z",
     "iopub.status.idle": "2021-05-05T09:05:33.394585Z",
     "shell.execute_reply": "2021-05-05T09:05:33.395053Z"
    },
    "jupyter": {
     "outputs_hidden": false
    },
    "papermill": {
     "duration": 0.074563,
     "end_time": "2021-05-05T09:05:33.395249",
     "exception": false,
     "start_time": "2021-05-05T09:05:33.320686",
     "status": "completed"
    },
    "tags": []
   },
   "outputs": [],
   "source": [
    "\n",
    "class Length(layers.Layer):\n",
    "    def call(self, inputs, **kwargs):\n",
    "        out = K.sqrt(K.sum(K.square(inputs), -1))\n",
    "        return out\n",
    "\n",
    "    def compute_output_shape(self, input_shape):\n",
    "        return input_shape[:-1]\n",
    "\n",
    "    def get_config(self):\n",
    "        cnf = super(Length, self).get_config()\n",
    "        return cnf\n",
    "\n",
    "\n",
    "class Mask(layers.Layer):\n",
    "    def call(self, inputs, **kwargs):\n",
    "        if type(inputs) is list:  # true label is provided with shape = [None, n_classes], i.e. one-hot code.\n",
    "            assert len(inputs) == 2\n",
    "            inputs, mask = inputs\n",
    "#             mask = tf.bitcast(tf.cast(mask, dtype=tf.int8), tf.uint8)\n",
    "            mask = tf.one_hot(mask,NUM_CLASS)\n",
    "            mask = tf.reshape(mask, shape=(-1, NUM_CLASS))\n",
    "        else:\n",
    "            x = K.sqrt(K.sum(K.square(inputs), -1))\n",
    "            mask = K.one_hot(indices=K.argmax(x, 1), num_classes=x.get_shape().as_list()[1])\n",
    "        masked = K.batch_flatten(inputs * K.expand_dims(mask, -1))\n",
    "\n",
    "        return masked\n",
    "\n",
    "    def compute_output_shape(self, input_shape):\n",
    "        if type(input_shape[0]) is tuple:  # true label provided\n",
    "            tf.print(\"in mask compute shape1 \")\n",
    "            return tuple([None, input_shape[0][1] * input_shape[0][2]])\n",
    "        else:  # no true label provided\n",
    "            tf.print(\"in mask compute shape2 \")\n",
    "            return tuple([None, input_shape[1] * input_shape[2]])\n",
    "\n",
    "    def get_config(self):\n",
    "        conf = super(Mask, self).get_config()\n",
    "        return conf\n",
    "\n",
    "\n",
    "def squash(vectors, axis=-1):\n",
    "    s_squared_norm = K.sum(K.square(vectors), axis, keepdims=True)\n",
    "    scale =( s_squared_norm / (1 + s_squared_norm) )/ K.sqrt(s_squared_norm + K.epsilon())\n",
    "    return scale * vectors\n",
    "\n",
    "\n",
    "def reduce_sum(input_tensor, axis=None, keepdims=False):\n",
    "    try:\n",
    "        return tf.reduce_sum(input_tensor, axis=axis, keepdims=keepdims)\n",
    "    except:\n",
    "        return tf.reduce_sum(input_tensor, axis=axis, keep_dims=keepdims)\n",
    "\n",
    "\n",
    "class CapsuleLayer(layers.Layer):\n",
    "    def __init__(self, num_capsule, dim_capsule, input_num_capsule,grid_size, routings=3,input_dim_capsule=8,\n",
    "                 kernel_initializer='glorot_uniform',\n",
    "                 **kwargs):\n",
    "        super(CapsuleLayer, self).__init__(**kwargs)\n",
    "        self.num_capsule = num_capsule\n",
    "        print(\"self.num_capsule: \", self.num_capsule)\n",
    "        self.dim_capsule = dim_capsule\n",
    "        self.input_num_capsule = input_num_capsule\n",
    "        self.routings = routings\n",
    "        self.grid_size=grid_size\n",
    "        self.kernel_initializer = initializers.get(kernel_initializer)\n",
    "        self.input_dim_capsule = input_dim_capsule\n",
    "\n",
    "    def build(self, input_shape):\n",
    "        assert len(input_shape) >= 3, \"The input Tensor should have shape=[None, input_num_capsule, input_dim_capsule]\"\n",
    "        print(self.input_num_capsule, self.input_dim_capsule,self.num_capsule)\n",
    "        self.W = self.add_weight(\n",
    "            shape=[1, self.input_num_capsule // (self.grid_size *self.grid_size),2,1, \n",
    "                   self.input_dim_capsule, self.dim_capsule],\n",
    "            initializer=\"random_normal\",\n",
    "            name='W')\n",
    "        print(\"Shape of w : \", self.W.shape)\n",
    "\n",
    "        self.built = True\n",
    "\n",
    "    def call(self, inputs, training=None):\n",
    "        input = tf.expand_dims(inputs, 2)\n",
    "        weights = tf.tile(self.W, [1,1,1,self.grid_size *self.grid_size,1,1])\n",
    "        input = tf.tile(input, [1,1, 2, 1, 1,1])\n",
    "        u_hat = tf.matmul(input, weights, name=\"tf.matmulinputweights\")\n",
    "        u_hat = tf.transpose(u_hat, [0,1,3,2,4,5])\n",
    "        u_hat=tf.reshape(u_hat,[-1,u_hat.shape[1]*u_hat.shape[2],u_hat.shape[3],u_hat.shape[4],u_hat.shape[5]])\n",
    "        u_hat_stopped = tf.stop_gradient(u_hat, name='stop_gradient')\n",
    "        \n",
    "        b_IJ = tf.constant(np.zeros([1, self.input_num_capsule, self.num_capsule,1,1], dtype=np.float32))\n",
    "        for r_iter in range(ROUTING):\n",
    "            c_IJ = tf.nn.softmax(b_IJ, axis=2)\n",
    "            if r_iter == 2:\n",
    "                s_J = tf.matmul(c_IJ, u_hat, name=\"Mulc_IJu_hat\")\n",
    "                s_J = reduce_sum(s_J, axis=1, keepdims=True)  # + biases\n",
    "                v_J = squash(s_J)\n",
    "            elif r_iter < 2:  # Inner iterations, do not apply backpropagation\n",
    "                s_J = tf.matmul(c_IJ,u_hat_stopped , name=\"Mulc_IJu_hat_stopped\")\n",
    "                s_J = reduce_sum(s_J, axis=1, keepdims=True)  # + biases\n",
    "                v_J = squash(s_J)\n",
    "                v_J_tiled = tf.tile(v_J, [1, self.input_num_capsule, 1, 1, 1])\n",
    "                u_produce_v = reduce_sum(u_hat_stopped * v_J_tiled, axis=4, keepdims=True)\n",
    "                b_IJ += u_produce_v\n",
    "               \n",
    "        v_J = tf.squeeze(v_J, axis=1)\n",
    "        v_J = tf.squeeze(v_J, axis=2)\n",
    "        return (v_J)\n",
    "\n",
    "    def compute_output_shape(self, input_shape):\n",
    "        # print(\" compute_output_shape input_shape::::\",input_shape.shape)\n",
    "        return tuple([None, self.num_capsule, self.dim_capsule])\n",
    "\n",
    "    def get_config(self):\n",
    "        conf = {\n",
    "            'num_capsule': self.num_capsule,\n",
    "            'dim_capsule': self.dim_capsule,\n",
    "            'routings': self.routings\n",
    "        }\n",
    "        base_config = super(CapsuleLayer, self).get_config()\n",
    "        return dict(list(base_config.items()) + list(conf.items()))"
   ]
  },
  {
   "cell_type": "code",
   "execution_count": 17,
   "id": "dressed-jersey",
   "metadata": {
    "_cell_guid": "190eb85b-0c0c-40c9-81d8-ef887f18f666",
    "_uuid": "c45eac7d-f35f-41f5-913b-6c19a751162b",
    "collapsed": false,
    "execution": {
     "iopub.execute_input": "2021-05-05T09:05:33.476318Z",
     "iopub.status.busy": "2021-05-05T09:05:33.475311Z",
     "iopub.status.idle": "2021-05-05T09:05:33.490437Z",
     "shell.execute_reply": "2021-05-05T09:05:33.490909Z"
    },
    "jupyter": {
     "outputs_hidden": false
    },
    "papermill": {
     "duration": 0.057405,
     "end_time": "2021-05-05T09:05:33.491089",
     "exception": false,
     "start_time": "2021-05-05T09:05:33.433684",
     "status": "completed"
    },
    "tags": []
   },
   "outputs": [],
   "source": [
    "def createHintonCapsule():\n",
    "    input_dim_capsule=8\n",
    "    dim_capsule=16\n",
    "    \n",
    "    filter_multiplier=16\n",
    "    grid_size= int(math.sqrt(filter_multiplier) * 2)\n",
    "\n",
    "    x = layers.Input(shape=INPUT_SHAPE)\n",
    "    print(\"x\",x)\n",
    "    conv1 = layers.Conv2D(filters=128, kernel_size=25, strides=(3,3), padding='valid', activation='swish', name='conv1')(x)\n",
    "    print(\"conv1\",conv1)\n",
    "    conv2 = layers.Conv2D(filters=128, kernel_size=16, strides=(2,2), padding='valid', activation='swish', name='conv2')(conv1)\n",
    "#     print(\"conv2\",conv2)\n",
    "    primary = layers.Conv2D(filters=input_dim_capsule*filter_multiplier, kernel_size=9,strides=1,padding='valid', activation='swish',name='primarycap_conv2d')(conv2)\n",
    "    print(\"primary1:\", primary)\n",
    "\n",
    "    primary = layers.Reshape(target_shape=[-1,grid_size*grid_size,1, input_dim_capsule], name='primarycap_reshape')(primary)\n",
    "    print(\"primary2:\", primary)\n",
    "    primary = layers.Lambda(squash, name='primarycap_squash')(primary)\n",
    "    print(\"primary3:\", primary)\n",
    "    \n",
    "    # input_num_capsule for size 28*28=1152 and size 128*128=100352  and size 256*256=460800\n",
    "    digitcaps = CapsuleLayer(num_capsule=NUM_CLASS, input_num_capsule=100352 ,\n",
    "                             dim_capsule=dim_capsule, routings=3,grid_size=grid_size,\n",
    "                             input_dim_capsule=input_dim_capsule,\n",
    "                             name='digitcaps')(primary)\n",
    "\n",
    "    print(\"digitcaps:\", digitcaps)\n",
    "\n",
    "    out_caps = Length(name='capsnet')(digitcaps)\n",
    "\n",
    "    # Decoder network.\n",
    "    y = layers.Input(shape=(1,), name='mask_input',dtype=\"int64\")\n",
    "    masked_by_y = Mask()([digitcaps, y])  # The true label is used to mask the output of capsule layer. For training\n",
    "    masked = Mask()(digitcaps)  # Mask using the capsule with maximal length. For prediction\n",
    "    print(\"shape of masked_by_y \", masked_by_y.shape)\n",
    "\n",
    "    # Shared Decoder model in training and prediction\n",
    "    decoder = tf.keras.models.Sequential(name='decoder')\n",
    "    decoder.add(layers.Dense(512, activation='relu', input_shape=(1, dim_capsule * NUM_CLASS)))\n",
    "    decoder.add(layers.Dense(1024, activation='relu'))\n",
    "    decoder.add(layers.Dense(np.prod(INPUT_SHAPE), activation='sigmoid'))\n",
    "    decoder.add(layers.Reshape(target_shape=INPUT_SHAPE, name='out_recon'))\n",
    "    decoder.summary()\n",
    "    # Models for training and evaluation (prediction)\n",
    "    train_model = tf.keras.models.Model([x, y], [out_caps, decoder(masked_by_y)])\n",
    "    eval_model = tf.keras.models.Model(x, [out_caps])\n",
    "    return train_model, eval_model"
   ]
  },
  {
   "cell_type": "code",
   "execution_count": 18,
   "id": "metric-wireless",
   "metadata": {
    "_cell_guid": "7eb87be1-3c11-4b9a-9307-1e4c558eebe3",
    "_uuid": "1b8c2c0c-4944-4bd9-9561-f9edfe601fe9",
    "collapsed": false,
    "execution": {
     "iopub.execute_input": "2021-05-05T09:05:33.572000Z",
     "iopub.status.busy": "2021-05-05T09:05:33.571018Z",
     "iopub.status.idle": "2021-05-05T09:05:33.584963Z",
     "shell.execute_reply": "2021-05-05T09:05:33.585467Z"
    },
    "jupyter": {
     "outputs_hidden": false
    },
    "papermill": {
     "duration": 0.056102,
     "end_time": "2021-05-05T09:05:33.585657",
     "exception": false,
     "start_time": "2021-05-05T09:05:33.529555",
     "status": "completed"
    },
    "tags": []
   },
   "outputs": [],
   "source": [
    "def createWBCCapsule():\n",
    "    x = layers.Input(shape=INPUT_SHAPE)\n",
    "    conv1 = layers.Conv2D(filters=32, activation='relu', kernel_size=7, strides=2, padding='same', name='conv1')(x)\n",
    "    conv2 = layers.Conv2D(filters=128, activation='relu', kernel_size=5, strides=2, padding='same', name='conv2')(conv1)\n",
    "    primary = layers.Conv2D(128, kernel_size=5, strides=1, padding='same', name='primarycap_conv2d')(conv2)\n",
    "    print(\"primary before reshape:::::::\", primary.shape)\n",
    "    primary = layers.Reshape(target_shape=[-1, 8], name='primarycap_reshape')(primary)\n",
    "    print(\"primary:::::::\", primary.shape)\n",
    "    primary = layers.Lambda(squash, name='primarycap_squash')(primary)\n",
    "    # Layer 3: Capsule layer. Routing algorithm works here.\n",
    "    digitcaps = CapsuleLayer(num_capsule=NUM_CLASS,\n",
    "                             input_num_capsule=INPUT_SHAPE[0] * INPUT_SHAPE[1],\n",
    "                             dim_capsule=64, routings=3, name='digitcaps')(primary)\n",
    "\n",
    "    print(\"digitcaps:::::::\", digitcaps.shape)\n",
    "    out_caps = Length(name='capsnet')(digitcaps)\n",
    "    print(\"out_caps:::::::\", out_caps.shape)\n",
    "\n",
    "    # Decoder network.\n",
    "    y = layers.Input(shape=(1,), name='mask_input',dtype=\"int64\")\n",
    "    masked_by_y = Mask()([digitcaps, y])  # The true label is used to mask the output of capsule layer. For training\n",
    "    masked = Mask()(digitcaps)  # Mask using the capsule with maximal length. For prediction\n",
    "    print(\"shape of masked_by_y \", masked_by_y.shape)\n",
    "\n",
    "    # Shared Decoder model in training and prediction\n",
    "    decoder_input = layers.Input(shape=(NUM_CLASS, 64 *NUM_CLASS))\n",
    "    decoder_out = layers.Dense(64, activation='relu', input_shape=(1, 16 * NUM_CLASS))(decoder_input)\n",
    "    decoder_out = layers.Dense(256, activation='relu')(decoder_out)\n",
    "    decoder_out = layers.Dense(np.prod(INPUT_SHAPE), activation='sigmoid')(decoder_out)\n",
    "    decoder_out = layers.Reshape(target_shape=INPUT_SHAPE, name='out_recon')(decoder_out)\n",
    "\n",
    "    decoder = tf.keras.models.Model(decoder_input, [decoder_out])\n",
    "    decoder.summary()\n",
    "    # Models for training and evaluation (prediction)\n",
    "    model = tf.keras.models.Model([x, y], [out_caps, decoder(masked_by_y)])\n",
    "    # eval_model = tf.keras.models.Model(x, [out_caps, decoder(masked)])\n",
    "    eval_model = tf.keras.models.Model(x, [out_caps])\n",
    "\n",
    "    return model, eval_model"
   ]
  },
  {
   "cell_type": "code",
   "execution_count": 19,
   "id": "utility-evaluation",
   "metadata": {
    "_cell_guid": "867d8cdb-9eaf-42d1-8dca-546107ffd99a",
    "_uuid": "5b5232f2-edb9-40c3-b112-80e59c5affbf",
    "collapsed": false,
    "execution": {
     "iopub.execute_input": "2021-05-05T09:05:33.667561Z",
     "iopub.status.busy": "2021-05-05T09:05:33.666426Z",
     "iopub.status.idle": "2021-05-05T09:05:33.675849Z",
     "shell.execute_reply": "2021-05-05T09:05:33.676328Z"
    },
    "jupyter": {
     "outputs_hidden": false
    },
    "papermill": {
     "duration": 0.051896,
     "end_time": "2021-05-05T09:05:33.676515",
     "exception": false,
     "start_time": "2021-05-05T09:05:33.624619",
     "status": "completed"
    },
    "tags": []
   },
   "outputs": [],
   "source": [
    "class change_spread_loss_coeff_callback(keras.callbacks.Callback):\n",
    "    def __init__(self, spread_loss_value):\n",
    "        self.spread_loss_value = spread_loss_value  \n",
    "    def on_epoch_end(self, epoch, logs=None):\n",
    "      total_increase=0.95 -0.2\n",
    "      percent_done=(epoch)/EPOCHS\n",
    "      K.set_value(self.spread_loss_value, K.get_value(self.spread_loss_value) + (percent_done*total_increase) )\n",
    "    \n",
    "spread_loss_instance = change_spread_loss_coeff_callback(spread_loss_value)    \n",
    "\n",
    "def spread_loss(y_true, y_pred):\n",
    "    y_tobe =tf.bitcast(tf.cast(y_true, dtype=tf.int64), tf.int64)\n",
    "    y_tobe = tf.one_hot(y_tobe, NUM_CLASS)\n",
    "    y_tobe = tf.squeeze(y_tobe,axis=1)\n",
    "    y_tobe_correct = y_tobe\n",
    "    y_tobe_wrong = 1- y_tobe\n",
    "    y_pred_correct =tf.math.multiply(y_tobe_correct,y_pred)\n",
    "    y_pred_wrong =tf.math.multiply(-1 * y_tobe_wrong,y_pred)\n",
    "    loss = tf.reduce_sum(y_pred_correct+y_pred_wrong,axis=-1)\n",
    "    loss = tf.math.square(K.maximum(0.,spread_loss_instance.spread_loss_value - loss))\n",
    "    loss = K.mean(loss)\n",
    "    return  loss"
   ]
  },
  {
   "cell_type": "markdown",
   "id": "introductory-colonial",
   "metadata": {
    "papermill": {
     "duration": 0.039,
     "end_time": "2021-05-05T09:05:33.754482",
     "exception": false,
     "start_time": "2021-05-05T09:05:33.715482",
     "status": "completed"
    },
    "tags": []
   },
   "source": []
  },
  {
   "cell_type": "code",
   "execution_count": 20,
   "id": "likely-disposal",
   "metadata": {
    "_cell_guid": "4d3451c7-7873-4ba9-92eb-76fd269c230b",
    "_uuid": "b53cf511-5cee-4636-bd2a-65f649ebd92a",
    "collapsed": false,
    "execution": {
     "iopub.execute_input": "2021-05-05T09:05:33.837261Z",
     "iopub.status.busy": "2021-05-05T09:05:33.836307Z",
     "iopub.status.idle": "2021-05-05T09:05:36.981541Z",
     "shell.execute_reply": "2021-05-05T09:05:36.980535Z"
    },
    "jupyter": {
     "outputs_hidden": false
    },
    "papermill": {
     "duration": 3.187707,
     "end_time": "2021-05-05T09:05:36.981713",
     "exception": false,
     "start_time": "2021-05-05T09:05:33.794006",
     "status": "completed"
    },
    "tags": []
   },
   "outputs": [
    {
     "name": "stdout",
     "output_type": "stream",
     "text": [
      "x KerasTensor(type_spec=TensorSpec(shape=(None, 128, 128, 3), dtype=tf.float32, name='input_1'), name='input_1', description=\"created by layer 'input_1'\")\n",
      "conv1 KerasTensor(type_spec=TensorSpec(shape=(None, 35, 35, 128), dtype=tf.float32, name=None), name='conv1/IdentityN:0', description=\"created by layer 'conv1'\")\n",
      "primary1: KerasTensor(type_spec=TensorSpec(shape=(None, 2, 2, 128), dtype=tf.float32, name=None), name='primarycap_conv2d/IdentityN:0', description=\"created by layer 'primarycap_conv2d'\")\n",
      "primary2: KerasTensor(type_spec=TensorSpec(shape=(None, 1, 64, 1, 8), dtype=tf.float32, name=None), name='primarycap_reshape/Reshape:0', description=\"created by layer 'primarycap_reshape'\")\n",
      "primary3: KerasTensor(type_spec=TensorSpec(shape=(None, 1, 64, 1, 8), dtype=tf.float32, name=None), name='primarycap_squash/mul:0', description=\"created by layer 'primarycap_squash'\")\n",
      "self.num_capsule:  2\n",
      "100352 8 2\n",
      "Shape of w :  (1, 1568, 2, 1, 8, 16)\n",
      "digitcaps: KerasTensor(type_spec=TensorSpec(shape=(None, 2, 16), dtype=tf.float32, name=None), name='digitcaps/Squeeze_1:0', description=\"created by layer 'digitcaps'\")\n",
      "shape of masked_by_y  (None, None)\n",
      "Model: \"decoder\"\n",
      "_________________________________________________________________\n",
      "Layer (type)                 Output Shape              Param #   \n",
      "=================================================================\n",
      "dense (Dense)                (None, 1, 512)            16896     \n",
      "_________________________________________________________________\n",
      "dense_1 (Dense)              (None, 1, 1024)           525312    \n",
      "_________________________________________________________________\n",
      "dense_2 (Dense)              (None, 1, 49152)          50380800  \n",
      "_________________________________________________________________\n",
      "out_recon (Reshape)          (None, 128, 128, 3)       0         \n",
      "=================================================================\n",
      "Total params: 50,923,008\n",
      "Trainable params: 50,923,008\n",
      "Non-trainable params: 0\n",
      "_________________________________________________________________\n"
     ]
    }
   ],
   "source": [
    "with strategy.scope():\n",
    "    (model, eval_model) = createHintonCapsule()\n",
    "#     model.summary()\n",
    "    loss = tf.keras.losses.BinaryCrossentropy(label_smoothing=0.01)\n",
    "#     loss=spread_loss\n",
    "    model.compile(optimizer='adam',\n",
    "                    loss=[loss, 'mse'],\n",
    "                    loss_weights=[1., 0.0005 * INPUT_SHAPE[0] * INPUT_SHAPE[1]],\n",
    "                    metrics=[{'capsnet': 'accuracy'},tf.keras.metrics.AUC(name='auc')]\n",
    "                 )"
   ]
  },
  {
   "cell_type": "markdown",
   "id": "critical-johns",
   "metadata": {
    "_cell_guid": "66857ae7-a551-4ea6-a9ab-e15eb3b4a3c5",
    "_uuid": "d11ab047-ace2-41a5-bda4-f678f916119f",
    "papermill": {
     "duration": 0.040752,
     "end_time": "2021-05-05T09:05:37.064071",
     "exception": false,
     "start_time": "2021-05-05T09:05:37.023319",
     "status": "completed"
    },
    "tags": []
   },
   "source": [
    "> # Scheduler\n",
    "\n",
    "*  Modified version of the [get_cosine_schedule_with_warmup](https://huggingface.co/transformers/_modules/transformers/optimization.html#get_cosine_schedule_with_warmup) from huggingface."
   ]
  },
  {
   "cell_type": "code",
   "execution_count": 21,
   "id": "jewish-berkeley",
   "metadata": {
    "_cell_guid": "ccecc047-9f4b-4515-b604-646d91ab12e1",
    "_uuid": "9b97763f-9b49-4cdf-98b4-3427c735b5d8",
    "collapsed": false,
    "execution": {
     "iopub.execute_input": "2021-05-05T09:05:37.154023Z",
     "iopub.status.busy": "2021-05-05T09:05:37.153351Z",
     "iopub.status.idle": "2021-05-05T09:05:37.156669Z",
     "shell.execute_reply": "2021-05-05T09:05:37.156081Z"
    },
    "jupyter": {
     "outputs_hidden": false
    },
    "papermill": {
     "duration": 0.051886,
     "end_time": "2021-05-05T09:05:37.156817",
     "exception": false,
     "start_time": "2021-05-05T09:05:37.104931",
     "status": "completed"
    },
    "tags": []
   },
   "outputs": [],
   "source": [
    "def get_cosine_schedule_with_warmup(lr,num_warmup_steps, num_training_steps, num_cycles=0.5):\n",
    "\n",
    "    def lrfn(epoch):\n",
    "        if epoch < num_warmup_steps:\n",
    "            return (float(epoch) / float(max(1, num_warmup_steps))) * lr\n",
    "        progress = float(epoch - num_warmup_steps) / float(max(1, num_training_steps - num_warmup_steps))\n",
    "        return max(0.0, 0.5 * (1.0 + math.cos(math.pi * float(num_cycles) * 2.0 * progress))) * lr\n",
    "\n",
    "    return tf.keras.callbacks.LearningRateScheduler(lrfn, verbose=True)\n",
    "\n",
    "lr_schedule= get_cosine_schedule_with_warmup(lr=LR,num_warmup_steps=WARMUP,num_training_steps=EPOCHS)"
   ]
  },
  {
   "cell_type": "markdown",
   "id": "unique-stroke",
   "metadata": {
    "_cell_guid": "fb193220-aca6-4e8c-8bc5-cecbfc264671",
    "_uuid": "2fbf128d-248f-49bc-8140-26ab90a53c3e",
    "papermill": {
     "duration": 0.041328,
     "end_time": "2021-05-05T09:05:37.239612",
     "exception": false,
     "start_time": "2021-05-05T09:05:37.198284",
     "status": "completed"
    },
    "tags": []
   },
   "source": [
    "> # Training"
   ]
  },
  {
   "cell_type": "code",
   "execution_count": 22,
   "id": "disturbed-latino",
   "metadata": {
    "_cell_guid": "cef53ac2-d667-4b9e-b4d4-331111e39d1d",
    "_uuid": "b1b7c3aa-697d-48d9-80f8-60942e40d441",
    "collapsed": false,
    "execution": {
     "iopub.execute_input": "2021-05-05T09:05:37.333769Z",
     "iopub.status.busy": "2021-05-05T09:05:37.333069Z",
     "iopub.status.idle": "2021-05-05T09:05:37.335852Z",
     "shell.execute_reply": "2021-05-05T09:05:37.335350Z"
    },
    "jupyter": {
     "outputs_hidden": false
    },
    "papermill": {
     "duration": 0.055152,
     "end_time": "2021-05-05T09:05:37.335993",
     "exception": false,
     "start_time": "2021-05-05T09:05:37.280841",
     "status": "completed"
    },
    "tags": []
   },
   "outputs": [],
   "source": [
    "\n",
    "def train():\n",
    "        STEPS_PER_EPOCH = count_data_items(train_filenames) // BATCH_SIZE\n",
    "        history =  model.fit(\n",
    "            train_dataset, \n",
    "            epochs=EPOCHS, \n",
    "#             callbacks=[tf.keras.callbacks.TerminateOnNaN()],\n",
    "#             callbacks=[lr_schedule,tf.keras.callbacks.TerminateOnNaN()],\n",
    "           callbacks=[lr_schedule],\n",
    "#             callbacks=[spread_loss_instance],\n",
    "            steps_per_epoch=STEPS_PER_EPOCH,\n",
    "            workers=8,\n",
    "            use_multiprocessing=True,\n",
    "            validation_data=valid_dataset)\n",
    "#         print(model.history.history)\n",
    "        history_record= {'Epoch':range(1,EPOCHS+1),\n",
    "                        'loss': model.history.history['loss'],\n",
    "                         'capsnet_loss': model.history.history['capsnet_loss'],\n",
    "                        'decoder_loss':model.history.history['decoder_loss'],\n",
    "                         'capsnet_accuracy':model.history.history['capsnet_accuracy'],\n",
    "                         'decoder_auc':model.history.history['decoder_auc'],\n",
    "                         'val_loss':model.history.history['val_loss'],\n",
    "                         'val_capsnet_loss':model.history.history['val_capsnet_loss'],\n",
    "                         'val_decoder_loss':model.history.history['val_decoder_loss'],\n",
    "                         'val_capsnet_accuracy':model.history.history['val_capsnet_accuracy'],\n",
    "                         'val_decoder_auc':model.history.history['val_decoder_auc'],\n",
    "                        }\n",
    "        result = pd.DataFrame(data=history_record)\n",
    "        result.to_csv('history_record.csv', index=False)\n",
    "        string = 'Train acc:{:.4f} Train loss:{:.4f} , Val acc:{:.4f} Val loss:{:.4f} '.format( \\\n",
    "            model.history.history['capsnet_accuracy'][-1],model.history.history['loss'][-1],\\\n",
    "            model.history.history['val_capsnet_accuracy'][-1],model.history.history['val_loss'][-1])\n",
    "\n",
    "        return string"
   ]
  },
  {
   "cell_type": "code",
   "execution_count": 23,
   "id": "expensive-fetish",
   "metadata": {
    "_cell_guid": "00618ad2-5aa1-412d-91ff-feac97c40cd7",
    "_uuid": "03aaa02b-00d9-4da5-ade4-747b2302233f",
    "collapsed": false,
    "execution": {
     "iopub.execute_input": "2021-05-05T09:05:37.425344Z",
     "iopub.status.busy": "2021-05-05T09:05:37.424559Z",
     "iopub.status.idle": "2021-05-05T10:22:12.008418Z",
     "shell.execute_reply": "2021-05-05T10:22:12.007708Z"
    },
    "jupyter": {
     "outputs_hidden": false
    },
    "papermill": {
     "duration": 4594.631265,
     "end_time": "2021-05-05T10:22:12.008593",
     "exception": false,
     "start_time": "2021-05-05T09:05:37.377328",
     "status": "completed"
    },
    "tags": []
   },
   "outputs": [
    {
     "name": "stdout",
     "output_type": "stream",
     "text": [
      "Epoch 1/50\n",
      "\n",
      "Epoch 00001: LearningRateScheduler reducing learning rate to 0.0.\n",
      "422/422 [==============================] - 130s 232ms/step - loss: 1.0382 - capsnet_loss: 0.4953 - decoder_loss: 0.0663 - capsnet_accuracy: 0.8857 - decoder_auc: 0.5000 - val_loss: 0.9836 - val_capsnet_loss: 0.4130 - val_decoder_loss: 0.0697 - val_capsnet_accuracy: 0.9081 - val_decoder_auc: 0.5000\n",
      "Epoch 2/50\n",
      "\n",
      "Epoch 00002: LearningRateScheduler reducing learning rate to 8.000000000000001e-06.\n",
      "422/422 [==============================] - 91s 216ms/step - loss: 0.9004 - capsnet_loss: 0.3632 - decoder_loss: 0.0656 - capsnet_accuracy: 0.5100 - decoder_auc: 0.5225 - val_loss: 0.7881 - val_capsnet_loss: 0.2571 - val_decoder_loss: 0.0648 - val_capsnet_accuracy: 0.8620 - val_decoder_auc: 0.4387\n",
      "Epoch 3/50\n",
      "\n",
      "Epoch 00003: LearningRateScheduler reducing learning rate to 1.6000000000000003e-05.\n",
      "422/422 [==============================] - 91s 216ms/step - loss: 0.7207 - capsnet_loss: 0.3200 - decoder_loss: 0.0489 - capsnet_accuracy: 0.8118 - decoder_auc: 0.6697 - val_loss: 0.4992 - val_capsnet_loss: 0.2737 - val_decoder_loss: 0.0275 - val_capsnet_accuracy: 0.6977 - val_decoder_auc: 0.8633\n",
      "Epoch 4/50\n",
      "\n",
      "Epoch 00004: LearningRateScheduler reducing learning rate to 2.4e-05.\n",
      "422/422 [==============================] - 91s 216ms/step - loss: 0.5399 - capsnet_loss: 0.3120 - decoder_loss: 0.0278 - capsnet_accuracy: 0.6443 - decoder_auc: 0.8917 - val_loss: 0.4353 - val_capsnet_loss: 0.2654 - val_decoder_loss: 0.0207 - val_capsnet_accuracy: 0.7141 - val_decoder_auc: 0.9146\n",
      "Epoch 5/50\n",
      "\n",
      "Epoch 00005: LearningRateScheduler reducing learning rate to 3.2000000000000005e-05.\n",
      "422/422 [==============================] - 91s 216ms/step - loss: 0.4936 - capsnet_loss: 0.3049 - decoder_loss: 0.0230 - capsnet_accuracy: 0.6723 - decoder_auc: 0.9295 - val_loss: 0.4162 - val_capsnet_loss: 0.2566 - val_decoder_loss: 0.0195 - val_capsnet_accuracy: 0.7536 - val_decoder_auc: 0.9466\n",
      "Epoch 6/50\n",
      "\n",
      "Epoch 00006: LearningRateScheduler reducing learning rate to 4e-05.\n",
      "422/422 [==============================] - 91s 215ms/step - loss: 0.4740 - capsnet_loss: 0.2997 - decoder_loss: 0.0213 - capsnet_accuracy: 0.7071 - decoder_auc: 0.9551 - val_loss: 0.4045 - val_capsnet_loss: 0.2536 - val_decoder_loss: 0.0184 - val_capsnet_accuracy: 0.8560 - val_decoder_auc: 0.9602\n",
      "Epoch 7/50\n",
      "\n",
      "Epoch 00007: LearningRateScheduler reducing learning rate to 3.9951281005196486e-05.\n",
      "422/422 [==============================] - 91s 215ms/step - loss: 0.4583 - capsnet_loss: 0.2979 - decoder_loss: 0.0196 - capsnet_accuracy: 0.7567 - decoder_auc: 0.9653 - val_loss: 0.3825 - val_capsnet_loss: 0.2546 - val_decoder_loss: 0.0156 - val_capsnet_accuracy: 0.7677 - val_decoder_auc: 0.9691\n",
      "Epoch 8/50\n",
      "\n",
      "Epoch 00008: LearningRateScheduler reducing learning rate to 3.980536137483141e-05.\n",
      "422/422 [==============================] - 91s 216ms/step - loss: 0.4273 - capsnet_loss: 0.2967 - decoder_loss: 0.0159 - capsnet_accuracy: 0.7252 - decoder_auc: 0.9737 - val_loss: 0.3561 - val_capsnet_loss: 0.2546 - val_decoder_loss: 0.0124 - val_capsnet_accuracy: 0.8523 - val_decoder_auc: 0.9827\n",
      "Epoch 9/50\n",
      "\n",
      "Epoch 00009: LearningRateScheduler reducing learning rate to 3.9562952014676116e-05.\n",
      "422/422 [==============================] - 91s 216ms/step - loss: 0.4044 - capsnet_loss: 0.2952 - decoder_loss: 0.0133 - capsnet_accuracy: 0.7464 - decoder_auc: 0.9814 - val_loss: 0.3455 - val_capsnet_loss: 0.2479 - val_decoder_loss: 0.0119 - val_capsnet_accuracy: 0.8635 - val_decoder_auc: 0.9819\n",
      "Epoch 10/50\n",
      "\n",
      "Epoch 00010: LearningRateScheduler reducing learning rate to 3.922523391876638e-05.\n",
      "422/422 [==============================] - 91s 215ms/step - loss: 0.3920 - capsnet_loss: 0.2905 - decoder_loss: 0.0124 - capsnet_accuracy: 0.7466 - decoder_auc: 0.9862 - val_loss: 0.3361 - val_capsnet_loss: 0.2466 - val_decoder_loss: 0.0109 - val_capsnet_accuracy: 0.8615 - val_decoder_auc: 0.9880\n",
      "Epoch 11/50\n",
      "\n",
      "Epoch 00011: LearningRateScheduler reducing learning rate to 3.879385241571817e-05.\n",
      "422/422 [==============================] - 91s 215ms/step - loss: 0.3818 - capsnet_loss: 0.2857 - decoder_loss: 0.0117 - capsnet_accuracy: 0.7395 - decoder_auc: 0.9885 - val_loss: 0.3339 - val_capsnet_loss: 0.2470 - val_decoder_loss: 0.0106 - val_capsnet_accuracy: 0.8128 - val_decoder_auc: 0.9908\n",
      "Epoch 12/50\n",
      "\n",
      "Epoch 00012: LearningRateScheduler reducing learning rate to 3.827090915285202e-05.\n",
      "422/422 [==============================] - 91s 215ms/step - loss: 0.3755 - capsnet_loss: 0.2824 - decoder_loss: 0.0114 - capsnet_accuracy: 0.7236 - decoder_auc: 0.9898 - val_loss: 0.3269 - val_capsnet_loss: 0.2426 - val_decoder_loss: 0.0103 - val_capsnet_accuracy: 0.8508 - val_decoder_auc: 0.9923\n",
      "Epoch 13/50\n",
      "\n",
      "Epoch 00013: LearningRateScheduler reducing learning rate to 3.7658951857178544e-05.\n",
      "422/422 [==============================] - 91s 215ms/step - loss: 0.3719 - capsnet_loss: 0.2810 - decoder_loss: 0.0111 - capsnet_accuracy: 0.7266 - decoder_auc: 0.9902 - val_loss: 0.3269 - val_capsnet_loss: 0.2432 - val_decoder_loss: 0.0102 - val_capsnet_accuracy: 0.8914 - val_decoder_auc: 0.9926\n",
      "Epoch 14/50\n",
      "\n",
      "Epoch 00014: LearningRateScheduler reducing learning rate to 3.696096192312852e-05.\n",
      "422/422 [==============================] - 91s 216ms/step - loss: 0.3678 - capsnet_loss: 0.2796 - decoder_loss: 0.0108 - capsnet_accuracy: 0.7470 - decoder_auc: 0.9916 - val_loss: 0.3224 - val_capsnet_loss: 0.2404 - val_decoder_loss: 0.0100 - val_capsnet_accuracy: 0.8523 - val_decoder_auc: 0.9920\n",
      "Epoch 15/50\n",
      "\n",
      "Epoch 00015: LearningRateScheduler reducing learning rate to 3.6180339887498953e-05.\n",
      "422/422 [==============================] - 91s 215ms/step - loss: 0.3639 - capsnet_loss: 0.2767 - decoder_loss: 0.0106 - capsnet_accuracy: 0.7450 - decoder_auc: 0.9918 - val_loss: 0.3203 - val_capsnet_loss: 0.2413 - val_decoder_loss: 0.0096 - val_capsnet_accuracy: 0.8409 - val_decoder_auc: 0.9933\n",
      "Epoch 16/50\n",
      "\n",
      "Epoch 00016: LearningRateScheduler reducing learning rate to 3.532088886237956e-05.\n",
      "422/422 [==============================] - 91s 216ms/step - loss: 0.3607 - capsnet_loss: 0.2763 - decoder_loss: 0.0103 - capsnet_accuracy: 0.7477 - decoder_auc: 0.9922 - val_loss: 0.3162 - val_capsnet_loss: 0.2388 - val_decoder_loss: 0.0095 - val_capsnet_accuracy: 0.8451 - val_decoder_auc: 0.9932\n",
      "Epoch 17/50\n",
      "\n",
      "Epoch 00017: LearningRateScheduler reducing learning rate to 3.438679600677303e-05.\n",
      "422/422 [==============================] - 91s 217ms/step - loss: 0.3568 - capsnet_loss: 0.2735 - decoder_loss: 0.0102 - capsnet_accuracy: 0.7486 - decoder_auc: 0.9922 - val_loss: 0.3165 - val_capsnet_loss: 0.2392 - val_decoder_loss: 0.0094 - val_capsnet_accuracy: 0.8604 - val_decoder_auc: 0.9931\n",
      "Epoch 18/50\n",
      "\n",
      "Epoch 00018: LearningRateScheduler reducing learning rate to 3.3382612127177166e-05.\n",
      "422/422 [==============================] - 91s 215ms/step - loss: 0.3522 - capsnet_loss: 0.2707 - decoder_loss: 0.0100 - capsnet_accuracy: 0.7564 - decoder_auc: 0.9925 - val_loss: 0.3144 - val_capsnet_loss: 0.2381 - val_decoder_loss: 0.0093 - val_capsnet_accuracy: 0.8693 - val_decoder_auc: 0.9932\n",
      "Epoch 19/50\n",
      "\n",
      "Epoch 00019: LearningRateScheduler reducing learning rate to 3.2313229506513167e-05.\n",
      "422/422 [==============================] - 91s 216ms/step - loss: 0.3503 - capsnet_loss: 0.2699 - decoder_loss: 0.0098 - capsnet_accuracy: 0.7497 - decoder_auc: 0.9927 - val_loss: 0.3131 - val_capsnet_loss: 0.2371 - val_decoder_loss: 0.0093 - val_capsnet_accuracy: 0.8576 - val_decoder_auc: 0.9933\n",
      "Epoch 20/50\n",
      "\n",
      "Epoch 00020: LearningRateScheduler reducing learning rate to 3.1183858069414936e-05.\n",
      "422/422 [==============================] - 91s 215ms/step - loss: 0.3478 - capsnet_loss: 0.2675 - decoder_loss: 0.0098 - capsnet_accuracy: 0.7566 - decoder_auc: 0.9928 - val_loss: 0.3128 - val_capsnet_loss: 0.2372 - val_decoder_loss: 0.0092 - val_capsnet_accuracy: 0.8740 - val_decoder_auc: 0.9935\n",
      "Epoch 21/50\n",
      "\n",
      "Epoch 00021: LearningRateScheduler reducing learning rate to 3.0000000000000004e-05.\n",
      "422/422 [==============================] - 91s 216ms/step - loss: 0.3487 - capsnet_loss: 0.2682 - decoder_loss: 0.0098 - capsnet_accuracy: 0.7622 - decoder_auc: 0.9925 - val_loss: 0.3109 - val_capsnet_loss: 0.2361 - val_decoder_loss: 0.0091 - val_capsnet_accuracy: 0.8586 - val_decoder_auc: 0.9936\n",
      "Epoch 22/50\n",
      "\n",
      "Epoch 00022: LearningRateScheduler reducing learning rate to 2.876742293578155e-05.\n",
      "422/422 [==============================] - 91s 216ms/step - loss: 0.3446 - capsnet_loss: 0.2654 - decoder_loss: 0.0097 - capsnet_accuracy: 0.7567 - decoder_auc: 0.9928 - val_loss: 0.3111 - val_capsnet_loss: 0.2370 - val_decoder_loss: 0.0090 - val_capsnet_accuracy: 0.8703 - val_decoder_auc: 0.9937\n",
      "Epoch 23/50\n",
      "\n",
      "Epoch 00023: LearningRateScheduler reducing learning rate to 2.7492131868318247e-05.\n",
      "422/422 [==============================] - 91s 215ms/step - loss: 0.3399 - capsnet_loss: 0.2622 - decoder_loss: 0.0095 - capsnet_accuracy: 0.7634 - decoder_auc: 0.9929 - val_loss: 0.3093 - val_capsnet_loss: 0.2362 - val_decoder_loss: 0.0089 - val_capsnet_accuracy: 0.8490 - val_decoder_auc: 0.9939\n",
      "Epoch 24/50\n",
      "\n",
      "Epoch 00024: LearningRateScheduler reducing learning rate to 2.618033988749895e-05.\n",
      "422/422 [==============================] - 93s 221ms/step - loss: 0.3390 - capsnet_loss: 0.2616 - decoder_loss: 0.0094 - capsnet_accuracy: 0.7608 - decoder_auc: 0.9930 - val_loss: 0.3078 - val_capsnet_loss: 0.2345 - val_decoder_loss: 0.0090 - val_capsnet_accuracy: 0.8333 - val_decoder_auc: 0.9936\n",
      "Epoch 25/50\n",
      "\n",
      "Epoch 00025: LearningRateScheduler reducing learning rate to 2.4838437911993355e-05.\n",
      "422/422 [==============================] - 91s 215ms/step - loss: 0.3388 - capsnet_loss: 0.2613 - decoder_loss: 0.0095 - capsnet_accuracy: 0.7562 - decoder_auc: 0.9933 - val_loss: 0.3085 - val_capsnet_loss: 0.2346 - val_decoder_loss: 0.0090 - val_capsnet_accuracy: 0.8544 - val_decoder_auc: 0.9936\n",
      "Epoch 26/50\n",
      "\n",
      "Epoch 00026: LearningRateScheduler reducing learning rate to 2.3472963553338614e-05.\n",
      "422/422 [==============================] - 91s 215ms/step - loss: 0.3333 - capsnet_loss: 0.2566 - decoder_loss: 0.0094 - capsnet_accuracy: 0.7573 - decoder_auc: 0.9933 - val_loss: 0.3054 - val_capsnet_loss: 0.2335 - val_decoder_loss: 0.0088 - val_capsnet_accuracy: 0.8560 - val_decoder_auc: 0.9937\n",
      "Epoch 27/50\n",
      "\n",
      "Epoch 00027: LearningRateScheduler reducing learning rate to 2.209056926535307e-05.\n",
      "422/422 [==============================] - 91s 215ms/step - loss: 0.3316 - capsnet_loss: 0.2555 - decoder_loss: 0.0093 - capsnet_accuracy: 0.7641 - decoder_auc: 0.9932 - val_loss: 0.3078 - val_capsnet_loss: 0.2344 - val_decoder_loss: 0.0090 - val_capsnet_accuracy: 0.8503 - val_decoder_auc: 0.9931\n",
      "Epoch 28/50\n",
      "\n",
      "Epoch 00028: LearningRateScheduler reducing learning rate to 2.0697989934050025e-05.\n",
      "422/422 [==============================] - 91s 215ms/step - loss: 0.3309 - capsnet_loss: 0.2547 - decoder_loss: 0.0093 - capsnet_accuracy: 0.7568 - decoder_auc: 0.9932 - val_loss: 0.3041 - val_capsnet_loss: 0.2327 - val_decoder_loss: 0.0087 - val_capsnet_accuracy: 0.8474 - val_decoder_auc: 0.9940\n",
      "Epoch 29/50\n",
      "\n",
      "Epoch 00029: LearningRateScheduler reducing learning rate to 1.930201006594999e-05.\n",
      "422/422 [==============================] - 91s 216ms/step - loss: 0.3289 - capsnet_loss: 0.2534 - decoder_loss: 0.0092 - capsnet_accuracy: 0.7610 - decoder_auc: 0.9933 - val_loss: 0.3029 - val_capsnet_loss: 0.2319 - val_decoder_loss: 0.0087 - val_capsnet_accuracy: 0.8503 - val_decoder_auc: 0.9940\n",
      "Epoch 30/50\n",
      "\n",
      "Epoch 00030: LearningRateScheduler reducing learning rate to 1.7909430734646936e-05.\n",
      "422/422 [==============================] - 91s 215ms/step - loss: 0.3254 - capsnet_loss: 0.2503 - decoder_loss: 0.0092 - capsnet_accuracy: 0.7701 - decoder_auc: 0.9932 - val_loss: 0.3032 - val_capsnet_loss: 0.2325 - val_decoder_loss: 0.0086 - val_capsnet_accuracy: 0.8357 - val_decoder_auc: 0.9942\n",
      "Epoch 31/50\n",
      "\n",
      "Epoch 00031: LearningRateScheduler reducing learning rate to 1.6527036446661396e-05.\n",
      "422/422 [==============================] - 91s 215ms/step - loss: 0.3247 - capsnet_loss: 0.2499 - decoder_loss: 0.0091 - capsnet_accuracy: 0.7676 - decoder_auc: 0.9930 - val_loss: 0.3027 - val_capsnet_loss: 0.2317 - val_decoder_loss: 0.0087 - val_capsnet_accuracy: 0.8102 - val_decoder_auc: 0.9940\n",
      "Epoch 32/50\n",
      "\n",
      "Epoch 00032: LearningRateScheduler reducing learning rate to 1.5161562088006649e-05.\n",
      "422/422 [==============================] - 91s 215ms/step - loss: 0.3218 - capsnet_loss: 0.2474 - decoder_loss: 0.0091 - capsnet_accuracy: 0.7684 - decoder_auc: 0.9933 - val_loss: 0.3015 - val_capsnet_loss: 0.2307 - val_decoder_loss: 0.0086 - val_capsnet_accuracy: 0.8539 - val_decoder_auc: 0.9940\n",
      "Epoch 33/50\n",
      "\n",
      "Epoch 00033: LearningRateScheduler reducing learning rate to 1.3819660112501054e-05.\n",
      "422/422 [==============================] - 91s 215ms/step - loss: 0.3200 - capsnet_loss: 0.2460 - decoder_loss: 0.0090 - capsnet_accuracy: 0.7696 - decoder_auc: 0.9934 - val_loss: 0.3029 - val_capsnet_loss: 0.2321 - val_decoder_loss: 0.0086 - val_capsnet_accuracy: 0.8570 - val_decoder_auc: 0.9940\n",
      "Epoch 34/50\n",
      "\n",
      "Epoch 00034: LearningRateScheduler reducing learning rate to 1.250786813168176e-05.\n",
      "422/422 [==============================] - 91s 215ms/step - loss: 0.3163 - capsnet_loss: 0.2427 - decoder_loss: 0.0090 - capsnet_accuracy: 0.7773 - decoder_auc: 0.9934 - val_loss: 0.3024 - val_capsnet_loss: 0.2318 - val_decoder_loss: 0.0086 - val_capsnet_accuracy: 0.8349 - val_decoder_auc: 0.9940\n",
      "Epoch 35/50\n",
      "\n",
      "Epoch 00035: LearningRateScheduler reducing learning rate to 1.123257706421845e-05.\n",
      "422/422 [==============================] - 91s 216ms/step - loss: 0.3158 - capsnet_loss: 0.2425 - decoder_loss: 0.0089 - capsnet_accuracy: 0.7754 - decoder_auc: 0.9934 - val_loss: 0.3035 - val_capsnet_loss: 0.2324 - val_decoder_loss: 0.0087 - val_capsnet_accuracy: 0.8484 - val_decoder_auc: 0.9940\n",
      "Epoch 36/50\n",
      "\n",
      "Epoch 00036: LearningRateScheduler reducing learning rate to 1.0000000000000006e-05.\n",
      "422/422 [==============================] - 91s 215ms/step - loss: 0.3151 - capsnet_loss: 0.2416 - decoder_loss: 0.0090 - capsnet_accuracy: 0.7800 - decoder_auc: 0.9932 - val_loss: 0.3028 - val_capsnet_loss: 0.2316 - val_decoder_loss: 0.0087 - val_capsnet_accuracy: 0.8385 - val_decoder_auc: 0.9939\n",
      "Epoch 37/50\n",
      "\n",
      "Epoch 00037: LearningRateScheduler reducing learning rate to 8.816141930585067e-06.\n",
      "422/422 [==============================] - 91s 215ms/step - loss: 0.3113 - capsnet_loss: 0.2383 - decoder_loss: 0.0089 - capsnet_accuracy: 0.7799 - decoder_auc: 0.9934 - val_loss: 0.3021 - val_capsnet_loss: 0.2313 - val_decoder_loss: 0.0087 - val_capsnet_accuracy: 0.8523 - val_decoder_auc: 0.9937\n",
      "Epoch 38/50\n",
      "\n",
      "Epoch 00038: LearningRateScheduler reducing learning rate to 7.686770493486835e-06.\n",
      "422/422 [==============================] - 91s 215ms/step - loss: 0.3093 - capsnet_loss: 0.2364 - decoder_loss: 0.0089 - capsnet_accuracy: 0.7950 - decoder_auc: 0.9934 - val_loss: 0.3009 - val_capsnet_loss: 0.2303 - val_decoder_loss: 0.0086 - val_capsnet_accuracy: 0.8174 - val_decoder_auc: 0.9937\n",
      "Epoch 39/50\n",
      "\n",
      "Epoch 00039: LearningRateScheduler reducing learning rate to 6.617387872822842e-06.\n",
      "422/422 [==============================] - 91s 215ms/step - loss: 0.3069 - capsnet_loss: 0.2343 - decoder_loss: 0.0089 - capsnet_accuracy: 0.7887 - decoder_auc: 0.9934 - val_loss: 0.3009 - val_capsnet_loss: 0.2303 - val_decoder_loss: 0.0086 - val_capsnet_accuracy: 0.8250 - val_decoder_auc: 0.9937\n",
      "Epoch 40/50\n",
      "\n",
      "Epoch 00040: LearningRateScheduler reducing learning rate to 5.613203993226981e-06.\n",
      "422/422 [==============================] - 91s 216ms/step - loss: 0.3058 - capsnet_loss: 0.2330 - decoder_loss: 0.0089 - capsnet_accuracy: 0.7893 - decoder_auc: 0.9931 - val_loss: 0.3010 - val_capsnet_loss: 0.2302 - val_decoder_loss: 0.0086 - val_capsnet_accuracy: 0.8315 - val_decoder_auc: 0.9935\n",
      "Epoch 41/50\n",
      "\n",
      "Epoch 00041: LearningRateScheduler reducing learning rate to 4.679111137620442e-06.\n",
      "422/422 [==============================] - 91s 217ms/step - loss: 0.3041 - capsnet_loss: 0.2316 - decoder_loss: 0.0088 - capsnet_accuracy: 0.7918 - decoder_auc: 0.9934 - val_loss: 0.3002 - val_capsnet_loss: 0.2297 - val_decoder_loss: 0.0086 - val_capsnet_accuracy: 0.8380 - val_decoder_auc: 0.9936\n",
      "Epoch 42/50\n",
      "\n",
      "Epoch 00042: LearningRateScheduler reducing learning rate to 3.819660112501053e-06.\n",
      "422/422 [==============================] - 91s 216ms/step - loss: 0.3029 - capsnet_loss: 0.2304 - decoder_loss: 0.0088 - capsnet_accuracy: 0.7972 - decoder_auc: 0.9934 - val_loss: 0.3006 - val_capsnet_loss: 0.2299 - val_decoder_loss: 0.0086 - val_capsnet_accuracy: 0.8320 - val_decoder_auc: 0.9935\n",
      "Epoch 43/50\n",
      "\n",
      "Epoch 00043: LearningRateScheduler reducing learning rate to 3.039038076871481e-06.\n",
      "422/422 [==============================] - 91s 215ms/step - loss: 0.3008 - capsnet_loss: 0.2288 - decoder_loss: 0.0088 - capsnet_accuracy: 0.8047 - decoder_auc: 0.9933 - val_loss: 0.3009 - val_capsnet_loss: 0.2305 - val_decoder_loss: 0.0086 - val_capsnet_accuracy: 0.8294 - val_decoder_auc: 0.9936\n",
      "Epoch 44/50\n",
      "\n",
      "Epoch 00044: LearningRateScheduler reducing learning rate to 2.3410481428214602e-06.\n",
      "422/422 [==============================] - 91s 216ms/step - loss: 0.2984 - capsnet_loss: 0.2265 - decoder_loss: 0.0088 - capsnet_accuracy: 0.8065 - decoder_auc: 0.9931 - val_loss: 0.3002 - val_capsnet_loss: 0.2299 - val_decoder_loss: 0.0086 - val_capsnet_accuracy: 0.8289 - val_decoder_auc: 0.9937\n",
      "Epoch 45/50\n",
      "\n",
      "Epoch 00045: LearningRateScheduler reducing learning rate to 1.7290908471479805e-06.\n",
      "422/422 [==============================] - 91s 216ms/step - loss: 0.3004 - capsnet_loss: 0.2284 - decoder_loss: 0.0088 - capsnet_accuracy: 0.8094 - decoder_auc: 0.9934 - val_loss: 0.3004 - val_capsnet_loss: 0.2303 - val_decoder_loss: 0.0086 - val_capsnet_accuracy: 0.8273 - val_decoder_auc: 0.9937\n",
      "Epoch 46/50\n",
      "\n",
      "Epoch 00046: LearningRateScheduler reducing learning rate to 1.2061475842818337e-06.\n",
      "422/422 [==============================] - 91s 216ms/step - loss: 0.2995 - capsnet_loss: 0.2276 - decoder_loss: 0.0088 - capsnet_accuracy: 0.8104 - decoder_auc: 0.9935 - val_loss: 0.2999 - val_capsnet_loss: 0.2301 - val_decoder_loss: 0.0085 - val_capsnet_accuracy: 0.8198 - val_decoder_auc: 0.9937\n",
      "Epoch 47/50\n",
      "\n",
      "Epoch 00047: LearningRateScheduler reducing learning rate to 7.747660812336221e-07.\n",
      "422/422 [==============================] - 91s 215ms/step - loss: 0.2989 - capsnet_loss: 0.2270 - decoder_loss: 0.0088 - capsnet_accuracy: 0.8114 - decoder_auc: 0.9935 - val_loss: 0.2995 - val_capsnet_loss: 0.2297 - val_decoder_loss: 0.0085 - val_capsnet_accuracy: 0.8211 - val_decoder_auc: 0.9938\n",
      "Epoch 48/50\n",
      "\n",
      "Epoch 00048: LearningRateScheduler reducing learning rate to 4.3704798532388624e-07.\n",
      "422/422 [==============================] - 91s 216ms/step - loss: 0.2971 - capsnet_loss: 0.2253 - decoder_loss: 0.0088 - capsnet_accuracy: 0.8171 - decoder_auc: 0.9935 - val_loss: 0.2995 - val_capsnet_loss: 0.2298 - val_decoder_loss: 0.0085 - val_capsnet_accuracy: 0.8208 - val_decoder_auc: 0.9939\n",
      "Epoch 49/50\n",
      "\n",
      "Epoch 00049: LearningRateScheduler reducing learning rate to 1.9463862516859277e-07.\n",
      "422/422 [==============================] - 91s 216ms/step - loss: 0.2955 - capsnet_loss: 0.2237 - decoder_loss: 0.0088 - capsnet_accuracy: 0.8210 - decoder_auc: 0.9934 - val_loss: 0.2992 - val_capsnet_loss: 0.2297 - val_decoder_loss: 0.0085 - val_capsnet_accuracy: 0.8224 - val_decoder_auc: 0.9939\n",
      "Epoch 50/50\n",
      "\n",
      "Epoch 00050: LearningRateScheduler reducing learning rate to 4.871899480351605e-08.\n",
      "422/422 [==============================] - 91s 216ms/step - loss: 0.2969 - capsnet_loss: 0.2252 - decoder_loss: 0.0088 - capsnet_accuracy: 0.8277 - decoder_auc: 0.9933 - val_loss: 0.2989 - val_capsnet_loss: 0.2295 - val_decoder_loss: 0.0085 - val_capsnet_accuracy: 0.8190 - val_decoder_auc: 0.9940\n"
     ]
    },
    {
     "data": {
      "text/plain": [
       "'Train acc:0.8490 Train loss:0.2582 , Val acc:0.8190 Val loss:0.2989 '"
      ]
     },
     "execution_count": 23,
     "metadata": {},
     "output_type": "execute_result"
    }
   ],
   "source": [
    "train()"
   ]
  },
  {
   "cell_type": "code",
   "execution_count": 24,
   "id": "binary-marathon",
   "metadata": {
    "_cell_guid": "9b910d97-ee37-4021-b157-43165ba2d5e7",
    "_uuid": "82800f75-7df3-4c13-91f6-c5f0c67218bf",
    "collapsed": false,
    "execution": {
     "iopub.execute_input": "2021-05-05T10:22:25.091973Z",
     "iopub.status.busy": "2021-05-05T10:22:25.087997Z",
     "iopub.status.idle": "2021-05-05T10:22:25.182551Z",
     "shell.execute_reply": "2021-05-05T10:22:25.181503Z"
    },
    "jupyter": {
     "outputs_hidden": false
    },
    "papermill": {
     "duration": 6.640508,
     "end_time": "2021-05-05T10:22:25.182763",
     "exception": false,
     "start_time": "2021-05-05T10:22:18.542255",
     "status": "completed"
    },
    "tags": []
   },
   "outputs": [],
   "source": [
    "eval_model.save_weights(\"saved_weights/\" + str(time.time()))"
   ]
  },
  {
   "cell_type": "markdown",
   "id": "fifth-convertible",
   "metadata": {
    "_cell_guid": "ae9ccd81-9f4a-40c1-9690-4889a14ab22c",
    "_uuid": "9f0bd307-f64a-49ff-bdcc-459743838d01",
    "papermill": {
     "duration": 6.518046,
     "end_time": "2021-05-05T10:22:38.293525",
     "exception": false,
     "start_time": "2021-05-05T10:22:31.775479",
     "status": "completed"
    },
    "tags": []
   },
   "source": [
    "> # Plotting training loss, accuracy and roc"
   ]
  },
  {
   "cell_type": "code",
   "execution_count": 25,
   "id": "robust-count",
   "metadata": {
    "_cell_guid": "ce5e8f35-43bd-46e8-aa65-948ffd07e23f",
    "_uuid": "d37cecc4-86f5-41d0-8deb-e1f69e093b19",
    "collapsed": false,
    "execution": {
     "iopub.execute_input": "2021-05-05T10:22:51.432397Z",
     "iopub.status.busy": "2021-05-05T10:22:51.431391Z",
     "iopub.status.idle": "2021-05-05T10:22:51.434634Z",
     "shell.execute_reply": "2021-05-05T10:22:51.433984Z"
    },
    "jupyter": {
     "outputs_hidden": false
    },
    "papermill": {
     "duration": 6.478141,
     "end_time": "2021-05-05T10:22:51.434788",
     "exception": false,
     "start_time": "2021-05-05T10:22:44.956647",
     "status": "completed"
    },
    "tags": []
   },
   "outputs": [],
   "source": [
    "def display_training_curves(training, validation, title, subplot):\n",
    "  \n",
    "    if subplot%10==1: # set up the subplots on the first call\n",
    "        plt.subplots(figsize=(20,35), facecolor='#F0F0F0')\n",
    "        plt.tight_layout()\n",
    "    ax = plt.subplot(subplot)\n",
    "    ax.set_facecolor('#F8F8F8')\n",
    "    ax.plot(training)\n",
    "    ax.plot(validation)\n",
    "    ax.set_title('model '+ title)\n",
    "    ax.set_ylabel(title)\n",
    "    ax.set_xlabel('epoch')\n",
    "    ax.legend(['train', 'valid.'])"
   ]
  },
  {
   "cell_type": "code",
   "execution_count": 26,
   "id": "interpreted-configuration",
   "metadata": {
    "_cell_guid": "6c363d71-c1a9-42e6-b5f6-ec36ebb7438e",
    "_uuid": "15bb3e8e-f3e1-401e-bdfc-63b9f5cd2cfe",
    "collapsed": false,
    "execution": {
     "iopub.execute_input": "2021-05-05T10:23:04.708896Z",
     "iopub.status.busy": "2021-05-05T10:23:04.708165Z",
     "iopub.status.idle": "2021-05-05T10:23:05.324069Z",
     "shell.execute_reply": "2021-05-05T10:23:05.324618Z"
    },
    "jupyter": {
     "outputs_hidden": false
    },
    "papermill": {
     "duration": 7.193001,
     "end_time": "2021-05-05T10:23:05.324810",
     "exception": false,
     "start_time": "2021-05-05T10:22:58.131809",
     "status": "completed"
    },
    "tags": []
   },
   "outputs": [
    {
     "data": {
      "image/png": "[encoded data removed]",
      "text/plain": [
       "<Figure size 1440x2520 with 2 Axes>"
      ]
     },
     "metadata": {},
     "output_type": "display_data"
    }
   ],
   "source": [
    "display_training_curves(\n",
    "    model.history.history['loss'], \n",
    "    model.history.history['val_loss'], \n",
    "    'loss', 311)\n",
    "display_training_curves(\n",
    "    model.history.history['capsnet_accuracy'], \n",
    "    model.history.history['val_capsnet_accuracy'], \n",
    "    'accuracy', 312)\n",
    "# display_training_curves(\n",
    "#     model.history.history['auc'], \n",
    "#     model.history.history['val_auc'], \n",
    "#     'auc', 313)"
   ]
  },
  {
   "cell_type": "markdown",
   "id": "incomplete-caution",
   "metadata": {
    "_cell_guid": "a6c1ad2e-e422-4cf2-9f9d-b86a0835adc3",
    "_uuid": "8b6a74b6-73fd-4871-af0d-40b2edcf73e8",
    "papermill": {
     "duration": 6.60685,
     "end_time": "2021-05-05T10:23:18.466896",
     "exception": false,
     "start_time": "2021-05-05T10:23:11.860046",
     "status": "completed"
    },
    "tags": []
   },
   "source": [
    "> # Prediction with TTA"
   ]
  },
  {
   "cell_type": "code",
   "execution_count": 27,
   "id": "turkish-brake",
   "metadata": {
    "_cell_guid": "8227c158-1894-4dc3-8a8f-396fbc69bfe3",
    "_uuid": "fa1f6598-5a0d-4d76-b284-81156dfc7620",
    "collapsed": false,
    "execution": {
     "iopub.execute_input": "2021-05-05T10:23:31.534815Z",
     "iopub.status.busy": "2021-05-05T10:23:31.534023Z",
     "iopub.status.idle": "2021-05-05T10:24:18.411646Z",
     "shell.execute_reply": "2021-05-05T10:24:18.411058Z"
    },
    "jupyter": {
     "outputs_hidden": false
    },
    "papermill": {
     "duration": 53.439616,
     "end_time": "2021-05-05T10:24:18.411815",
     "exception": false,
     "start_time": "2021-05-05T10:23:24.972199",
     "status": "completed"
    },
    "tags": []
   },
   "outputs": [
    {
     "name": "stdout",
     "output_type": "stream",
     "text": [
      "86/86 [==============================] - 18s 125ms/step\n",
      "86/86 [==============================] - 7s 69ms/step\n",
      "86/86 [==============================] - 7s 69ms/step\n",
      "86/86 [==============================] - 7s 69ms/step\n"
     ]
    }
   ],
   "source": [
    "def getImages(image,image_name):\n",
    "    return (image)\n",
    "\n",
    "def getImageNames(image,image_name):\n",
    "    return (image_name)\n",
    "\n",
    "num_test_images = count_data_items(test_filenames)\n",
    "submission_df = pd.read_csv('/kaggle/input/siim-isic-melanoma-classification/sample_submission.csv')\n",
    "for i in range(TTA):\n",
    "    test_dataset = (load_dataset(test_filenames, labeled=False,ordered=True)\n",
    "    .map(data_augment_unlabled, num_parallel_calls=AUTO)\n",
    "    .batch(BATCH_SIZE))\n",
    "    test_dataset_images = test_dataset.map(getImages)\n",
    "    test_dataset_image_name = test_dataset.map(getImageNames).unbatch()\n",
    "    test_ids = next(iter(test_dataset_image_name.batch(num_test_images))).numpy().astype('U')\n",
    "    all_preds = eval_model.predict(test_dataset_images, verbose=1)\n",
    "    all_preds=np.concatenate(all_preds)\n",
    "    malig_preds=[]\n",
    "    step=2\n",
    "    start=1\n",
    "    for j in range(start,len(all_preds),step):\n",
    "        malig_preds.append(all_preds[j])\n",
    "    pred_df = pd.DataFrame({'image_name': test_ids, 'target': malig_preds})\n",
    "    temp = submission_df.copy()\n",
    "    del temp['target']\n",
    "    submission_df['target'] += temp.merge(pred_df,on=\"image_name\")['target']/TTA"
   ]
  },
  {
   "cell_type": "markdown",
   "id": "supposed-biography",
   "metadata": {
    "_cell_guid": "9363f0f6-7111-488c-97fb-12437db3d02c",
    "_uuid": "ac9fbd17-353f-4c87-b58c-9af307fc320a",
    "papermill": {
     "duration": 6.602293,
     "end_time": "2021-05-05T10:24:31.605256",
     "exception": false,
     "start_time": "2021-05-05T10:24:25.002963",
     "status": "completed"
    },
    "tags": []
   },
   "source": [
    "> # Submission"
   ]
  },
  {
   "cell_type": "code",
   "execution_count": 28,
   "id": "smooth-wrestling",
   "metadata": {
    "_cell_guid": "a797293d-a4ad-4035-8d41-f81e5b172bb3",
    "_uuid": "3ea0d9b4-93dc-4e25-a5f1-3d0c70be9ff3",
    "collapsed": false,
    "execution": {
     "iopub.execute_input": "2021-05-05T10:24:44.856836Z",
     "iopub.status.busy": "2021-05-05T10:24:44.856127Z",
     "iopub.status.idle": "2021-05-05T10:24:44.922214Z",
     "shell.execute_reply": "2021-05-05T10:24:44.921523Z"
    },
    "jupyter": {
     "outputs_hidden": false
    },
    "papermill": {
     "duration": 6.68991,
     "end_time": "2021-05-05T10:24:44.922438",
     "exception": false,
     "start_time": "2021-05-05T10:24:38.232528",
     "status": "completed"
    },
    "tags": []
   },
   "outputs": [
    {
     "data": {
      "text/html": [
       "<div>\n",
       "<style scoped>\n",
       "    .dataframe tbody tr th:only-of-type {\n",
       "        vertical-align: middle;\n",
       "    }\n",
       "\n",
       "    .dataframe tbody tr th {\n",
       "        vertical-align: top;\n",
       "    }\n",
       "\n",
       "    .dataframe thead th {\n",
       "        text-align: right;\n",
       "    }\n",
       "</style>\n",
       "<table border=\"1\" class=\"dataframe\">\n",
       "  <thead>\n",
       "    <tr style=\"text-align: right;\">\n",
       "      <th></th>\n",
       "      <th>image_name</th>\n",
       "      <th>target</th>\n",
       "    </tr>\n",
       "  </thead>\n",
       "  <tbody>\n",
       "    <tr>\n",
       "      <th>0</th>\n",
       "      <td>ISIC_0052060</td>\n",
       "      <td>0.040340</td>\n",
       "    </tr>\n",
       "    <tr>\n",
       "      <th>1</th>\n",
       "      <td>ISIC_0052349</td>\n",
       "      <td>0.016236</td>\n",
       "    </tr>\n",
       "    <tr>\n",
       "      <th>2</th>\n",
       "      <td>ISIC_0058510</td>\n",
       "      <td>0.005085</td>\n",
       "    </tr>\n",
       "    <tr>\n",
       "      <th>3</th>\n",
       "      <td>ISIC_0073313</td>\n",
       "      <td>0.004824</td>\n",
       "    </tr>\n",
       "    <tr>\n",
       "      <th>4</th>\n",
       "      <td>ISIC_0073502</td>\n",
       "      <td>0.016553</td>\n",
       "    </tr>\n",
       "    <tr>\n",
       "      <th>...</th>\n",
       "      <td>...</td>\n",
       "      <td>...</td>\n",
       "    </tr>\n",
       "    <tr>\n",
       "      <th>10977</th>\n",
       "      <td>ISIC_9992485</td>\n",
       "      <td>0.017316</td>\n",
       "    </tr>\n",
       "    <tr>\n",
       "      <th>10978</th>\n",
       "      <td>ISIC_9996992</td>\n",
       "      <td>0.034549</td>\n",
       "    </tr>\n",
       "    <tr>\n",
       "      <th>10979</th>\n",
       "      <td>ISIC_9997917</td>\n",
       "      <td>0.251884</td>\n",
       "    </tr>\n",
       "    <tr>\n",
       "      <th>10980</th>\n",
       "      <td>ISIC_9998234</td>\n",
       "      <td>0.017676</td>\n",
       "    </tr>\n",
       "    <tr>\n",
       "      <th>10981</th>\n",
       "      <td>ISIC_9999302</td>\n",
       "      <td>0.360322</td>\n",
       "    </tr>\n",
       "  </tbody>\n",
       "</table>\n",
       "<p>10982 rows × 2 columns</p>\n",
       "</div>"
      ],
      "text/plain": [
       "         image_name    target\n",
       "0      ISIC_0052060  0.040340\n",
       "1      ISIC_0052349  0.016236\n",
       "2      ISIC_0058510  0.005085\n",
       "3      ISIC_0073313  0.004824\n",
       "4      ISIC_0073502  0.016553\n",
       "...             ...       ...\n",
       "10977  ISIC_9992485  0.017316\n",
       "10978  ISIC_9996992  0.034549\n",
       "10979  ISIC_9997917  0.251884\n",
       "10980  ISIC_9998234  0.017676\n",
       "10981  ISIC_9999302  0.360322\n",
       "\n",
       "[10982 rows x 2 columns]"
      ]
     },
     "execution_count": 28,
     "metadata": {},
     "output_type": "execute_result"
    }
   ],
   "source": [
    "submission_df.to_csv('capsule.csv', index=False)\n",
    "pd.Series(np.round(submission_df['target'].values)).value_counts()\n",
    "submission_df"
   ]
  },
  {
   "cell_type": "markdown",
   "id": "quantitative-asthma",
   "metadata": {
    "_cell_guid": "f53bf5f6-26c0-4336-a6df-c9588467845f",
    "_uuid": "58a5e0fa-795a-4216-9ba1-a0e36b81b340",
    "papermill": {
     "duration": 6.670751,
     "end_time": "2021-05-05T10:24:58.319995",
     "exception": false,
     "start_time": "2021-05-05T10:24:51.649244",
     "status": "completed"
    },
    "tags": []
   },
   "source": [
    "# MetaData"
   ]
  },
  {
   "cell_type": "code",
   "execution_count": 29,
   "id": "polar-product",
   "metadata": {
    "_cell_guid": "fed20de8-6e1b-47e8-8a6c-ddadf68ba314",
    "_uuid": "15aecb9f-bd7a-40eb-b312-fa0154e8fde3",
    "collapsed": false,
    "execution": {
     "iopub.execute_input": "2021-05-05T10:25:11.614076Z",
     "iopub.status.busy": "2021-05-05T10:25:11.613357Z",
     "iopub.status.idle": "2021-05-05T10:25:11.622232Z",
     "shell.execute_reply": "2021-05-05T10:25:11.623468Z"
    },
    "jupyter": {
     "outputs_hidden": false
    },
    "papermill": {
     "duration": 6.683672,
     "end_time": "2021-05-05T10:25:11.623666",
     "exception": false,
     "start_time": "2021-05-05T10:25:04.939994",
     "status": "completed"
    },
    "tags": []
   },
   "outputs": [],
   "source": [
    "submission2_df = df_1.copy()\n",
    "submission2_df['target'] = 0.075 * df_1['target'] + 0.1 * df_3b['target'] + 0.375 * df_4['target'] + 0.45 * df_5['target']"
   ]
  },
  {
   "cell_type": "code",
   "execution_count": 30,
   "id": "declared-combination",
   "metadata": {
    "_cell_guid": "66a41638-2e5b-4bf3-9df6-a6b07f768c53",
    "_uuid": "4d9ecd8a-c0f5-44d8-9eb4-00c32f27194d",
    "collapsed": false,
    "execution": {
     "iopub.execute_input": "2021-05-05T10:25:25.029500Z",
     "iopub.status.busy": "2021-05-05T10:25:25.028442Z",
     "iopub.status.idle": "2021-05-05T10:25:25.089010Z",
     "shell.execute_reply": "2021-05-05T10:25:25.089609Z"
    },
    "jupyter": {
     "outputs_hidden": false
    },
    "papermill": {
     "duration": 6.793483,
     "end_time": "2021-05-05T10:25:25.089788",
     "exception": false,
     "start_time": "2021-05-05T10:25:18.296305",
     "status": "completed"
    },
    "tags": []
   },
   "outputs": [
    {
     "data": {
      "text/html": [
       "<div>\n",
       "<style scoped>\n",
       "    .dataframe tbody tr th:only-of-type {\n",
       "        vertical-align: middle;\n",
       "    }\n",
       "\n",
       "    .dataframe tbody tr th {\n",
       "        vertical-align: top;\n",
       "    }\n",
       "\n",
       "    .dataframe thead th {\n",
       "        text-align: right;\n",
       "    }\n",
       "</style>\n",
       "<table border=\"1\" class=\"dataframe\">\n",
       "  <thead>\n",
       "    <tr style=\"text-align: right;\">\n",
       "      <th></th>\n",
       "      <th>image_name</th>\n",
       "      <th>target</th>\n",
       "    </tr>\n",
       "  </thead>\n",
       "  <tbody>\n",
       "    <tr>\n",
       "      <th>0</th>\n",
       "      <td>ISIC_0052060</td>\n",
       "      <td>0.021669</td>\n",
       "    </tr>\n",
       "    <tr>\n",
       "      <th>1</th>\n",
       "      <td>ISIC_0052349</td>\n",
       "      <td>0.017856</td>\n",
       "    </tr>\n",
       "    <tr>\n",
       "      <th>2</th>\n",
       "      <td>ISIC_0058510</td>\n",
       "      <td>0.023512</td>\n",
       "    </tr>\n",
       "    <tr>\n",
       "      <th>3</th>\n",
       "      <td>ISIC_0073313</td>\n",
       "      <td>0.018779</td>\n",
       "    </tr>\n",
       "    <tr>\n",
       "      <th>4</th>\n",
       "      <td>ISIC_0073502</td>\n",
       "      <td>0.019920</td>\n",
       "    </tr>\n",
       "    <tr>\n",
       "      <th>...</th>\n",
       "      <td>...</td>\n",
       "      <td>...</td>\n",
       "    </tr>\n",
       "    <tr>\n",
       "      <th>10977</th>\n",
       "      <td>ISIC_9992485</td>\n",
       "      <td>0.016272</td>\n",
       "    </tr>\n",
       "    <tr>\n",
       "      <th>10978</th>\n",
       "      <td>ISIC_9996992</td>\n",
       "      <td>0.024099</td>\n",
       "    </tr>\n",
       "    <tr>\n",
       "      <th>10979</th>\n",
       "      <td>ISIC_9997917</td>\n",
       "      <td>0.043192</td>\n",
       "    </tr>\n",
       "    <tr>\n",
       "      <th>10980</th>\n",
       "      <td>ISIC_9998234</td>\n",
       "      <td>0.024904</td>\n",
       "    </tr>\n",
       "    <tr>\n",
       "      <th>10981</th>\n",
       "      <td>ISIC_9999302</td>\n",
       "      <td>0.047275</td>\n",
       "    </tr>\n",
       "  </tbody>\n",
       "</table>\n",
       "<p>10982 rows × 2 columns</p>\n",
       "</div>"
      ],
      "text/plain": [
       "         image_name    target\n",
       "0      ISIC_0052060  0.021669\n",
       "1      ISIC_0052349  0.017856\n",
       "2      ISIC_0058510  0.023512\n",
       "3      ISIC_0073313  0.018779\n",
       "4      ISIC_0073502  0.019920\n",
       "...             ...       ...\n",
       "10977  ISIC_9992485  0.016272\n",
       "10978  ISIC_9996992  0.024099\n",
       "10979  ISIC_9997917  0.043192\n",
       "10980  ISIC_9998234  0.024904\n",
       "10981  ISIC_9999302  0.047275\n",
       "\n",
       "[10982 rows x 2 columns]"
      ]
     },
     "execution_count": 30,
     "metadata": {},
     "output_type": "execute_result"
    }
   ],
   "source": [
    "submission2_df.to_csv('metadata.csv', index=False)\n",
    "submission2_df"
   ]
  },
  {
   "cell_type": "markdown",
   "id": "spoken-entity",
   "metadata": {
    "_cell_guid": "655a031f-cb1b-44b1-ae59-04483692b840",
    "_uuid": "686041f9-23bd-4c99-92bc-300fb0427bef",
    "papermill": {
     "duration": 6.737585,
     "end_time": "2021-05-05T10:25:38.557459",
     "exception": false,
     "start_time": "2021-05-05T10:25:31.819874",
     "status": "completed"
    },
    "tags": []
   },
   "source": [
    "# **Merge**"
   ]
  },
  {
   "cell_type": "code",
   "execution_count": 31,
   "id": "buried-overall",
   "metadata": {
    "_cell_guid": "0f6a80af-5320-4b96-bb35-e72fa36bb7d8",
    "_uuid": "e105ca7e-459b-400c-9d7e-292d520c6a7e",
    "collapsed": false,
    "execution": {
     "iopub.execute_input": "2021-05-05T10:25:51.876362Z",
     "iopub.status.busy": "2021-05-05T10:25:51.875510Z",
     "iopub.status.idle": "2021-05-05T10:25:51.935316Z",
     "shell.execute_reply": "2021-05-05T10:25:51.934686Z"
    },
    "jupyter": {
     "outputs_hidden": false
    },
    "papermill": {
     "duration": 6.742482,
     "end_time": "2021-05-05T10:25:51.935467",
     "exception": false,
     "start_time": "2021-05-05T10:25:45.192985",
     "status": "completed"
    },
    "tags": []
   },
   "outputs": [
    {
     "data": {
      "text/html": [
       "<div>\n",
       "<style scoped>\n",
       "    .dataframe tbody tr th:only-of-type {\n",
       "        vertical-align: middle;\n",
       "    }\n",
       "\n",
       "    .dataframe tbody tr th {\n",
       "        vertical-align: top;\n",
       "    }\n",
       "\n",
       "    .dataframe thead th {\n",
       "        text-align: right;\n",
       "    }\n",
       "</style>\n",
       "<table border=\"1\" class=\"dataframe\">\n",
       "  <thead>\n",
       "    <tr style=\"text-align: right;\">\n",
       "      <th></th>\n",
       "      <th>image_name</th>\n",
       "      <th>target</th>\n",
       "    </tr>\n",
       "  </thead>\n",
       "  <tbody>\n",
       "    <tr>\n",
       "      <th>0</th>\n",
       "      <td>ISIC_0052060</td>\n",
       "      <td>0.031005</td>\n",
       "    </tr>\n",
       "    <tr>\n",
       "      <th>1</th>\n",
       "      <td>ISIC_0052349</td>\n",
       "      <td>0.017046</td>\n",
       "    </tr>\n",
       "    <tr>\n",
       "      <th>2</th>\n",
       "      <td>ISIC_0058510</td>\n",
       "      <td>0.014298</td>\n",
       "    </tr>\n",
       "    <tr>\n",
       "      <th>3</th>\n",
       "      <td>ISIC_0073313</td>\n",
       "      <td>0.011801</td>\n",
       "    </tr>\n",
       "    <tr>\n",
       "      <th>4</th>\n",
       "      <td>ISIC_0073502</td>\n",
       "      <td>0.018236</td>\n",
       "    </tr>\n",
       "    <tr>\n",
       "      <th>...</th>\n",
       "      <td>...</td>\n",
       "      <td>...</td>\n",
       "    </tr>\n",
       "    <tr>\n",
       "      <th>10977</th>\n",
       "      <td>ISIC_9992485</td>\n",
       "      <td>0.016794</td>\n",
       "    </tr>\n",
       "    <tr>\n",
       "      <th>10978</th>\n",
       "      <td>ISIC_9996992</td>\n",
       "      <td>0.029324</td>\n",
       "    </tr>\n",
       "    <tr>\n",
       "      <th>10979</th>\n",
       "      <td>ISIC_9997917</td>\n",
       "      <td>0.147538</td>\n",
       "    </tr>\n",
       "    <tr>\n",
       "      <th>10980</th>\n",
       "      <td>ISIC_9998234</td>\n",
       "      <td>0.021290</td>\n",
       "    </tr>\n",
       "    <tr>\n",
       "      <th>10981</th>\n",
       "      <td>ISIC_9999302</td>\n",
       "      <td>0.203798</td>\n",
       "    </tr>\n",
       "  </tbody>\n",
       "</table>\n",
       "<p>10982 rows × 2 columns</p>\n",
       "</div>"
      ],
      "text/plain": [
       "         image_name    target\n",
       "0      ISIC_0052060  0.031005\n",
       "1      ISIC_0052349  0.017046\n",
       "2      ISIC_0058510  0.014298\n",
       "3      ISIC_0073313  0.011801\n",
       "4      ISIC_0073502  0.018236\n",
       "...             ...       ...\n",
       "10977  ISIC_9992485  0.016794\n",
       "10978  ISIC_9996992  0.029324\n",
       "10979  ISIC_9997917  0.147538\n",
       "10980  ISIC_9998234  0.021290\n",
       "10981  ISIC_9999302  0.203798\n",
       "\n",
       "[10982 rows x 2 columns]"
      ]
     },
     "execution_count": 31,
     "metadata": {},
     "output_type": "execute_result"
    }
   ],
   "source": [
    "result = df_1.copy()\n",
    "result['target']=(submission2_df['target'] + submission_df['target'])/2.0 \n",
    "result.to_csv('capsule_meta.csv', index=False)\n",
    "result"
   ]
  }
 ],
 "metadata": {
  "kernelspec": {
   "display_name": "Python 3",
   "language": "python",
   "name": "python3"
  },
  "language_info": {
   "codemirror_mode": {
    "name": "ipython",
    "version": 3
   },
   "file_extension": ".py",
   "mimetype": "text/x-python",
   "name": "python",
   "nbconvert_exporter": "python",
   "pygments_lexer": "ipython3",
   "version": "3.7.10"
  },
  "papermill": {
   "default_parameters": {},
   "duration": 4871.079524,
   "end_time": "2021-05-05T10:26:01.050475",
   "environment_variables": {},
   "exception": null,
   "input_path": "__notebook__.ipynb",
   "output_path": "__notebook__.ipynb",
   "parameters": {},
   "start_time": "2021-05-05T09:04:49.970951",
   "version": "2.3.3"
  }
 },
 "nbformat": 4,
 "nbformat_minor": 5
}
